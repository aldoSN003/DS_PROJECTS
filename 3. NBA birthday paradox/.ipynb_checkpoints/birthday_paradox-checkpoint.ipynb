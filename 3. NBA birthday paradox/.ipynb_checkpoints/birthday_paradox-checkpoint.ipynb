{
 "cells": [
  {
   "cell_type": "markdown",
   "id": "33940cd946232b2",
   "metadata": {},
   "source": [
    "# Birthday Paradox Explanation\n",
    "\n",
    "The **birthday paradox** refers to the counterintuitive probability that in a group of people, at least two of them share the same birthday. For example, in a group of just 23 people, the probability is over 50%.\n",
    "\n",
    "## Formula Using Combinatorics\n",
    "\n",
    "For \\( n \\) people, the probability that **at least two people share a birthday** can be approximated using combinatorics:\n",
    "\n",
    "$$\n",
    "P(\\text{at least one match}) \\approx 1 - \\left( \\frac{364}{365} \\right)^{\\binom{n}{2}}\n",
    "$$\n",
    "\n",
    "Where:\n",
    "\n",
    "- $\\frac{364}{365}$ represents the probability that two randomly chosen people do not share the same birthday.\n",
    "- $\\binom{n}{2} = \\frac{n(n-1)}{2}$is the number of unique pairs of people in a group of \\( n \\).\n",
    "\n",
    "This formula simplifies the computation by focusing on the number of unique pairs and assumes that each pair has an independent probability of not sharing a birthday.\n",
    "\n",
    "## Complement Formula\n",
    "\n",
    "The complement gives the probability that **no two people share a birthday**:\n",
    "\n",
    "$$\n",
    "P(\\text{no match}) \\approx \\left( \\frac{364}{365} \\right)^{\\binom{n}{2}}\n",
    "$$\n",
    "\n",
    "\n",
    "\n",
    "\n",
    "\n"
   ]
  },
  {
   "cell_type": "code",
   "execution_count": 4,
   "id": "d0fd9dad6482ea06",
   "metadata": {
    "ExecuteTime": {
     "end_time": "2024-12-11T15:37:18.686208Z",
     "start_time": "2024-12-11T15:37:18.276670Z"
    }
   },
   "outputs": [],
   "source": [
    "import pandas as pd\n",
    "import math\n"
   ]
  },
  {
   "cell_type": "code",
   "execution_count": 6,
   "id": "b4883a51c63b9432",
   "metadata": {
    "ExecuteTime": {
     "end_time": "2024-12-11T15:39:05.905816Z",
     "start_time": "2024-12-11T15:39:05.820220Z"
    }
   },
   "outputs": [
    {
     "data": {
      "text/html": [
       "<div>\n",
       "<style scoped>\n",
       "    .dataframe tbody tr th:only-of-type {\n",
       "        vertical-align: middle;\n",
       "    }\n",
       "\n",
       "    .dataframe tbody tr th {\n",
       "        vertical-align: top;\n",
       "    }\n",
       "\n",
       "    .dataframe thead th {\n",
       "        text-align: right;\n",
       "    }\n",
       "</style>\n",
       "<table border=\"1\" class=\"dataframe\">\n",
       "  <thead>\n",
       "    <tr style=\"text-align: right;\">\n",
       "      <th></th>\n",
       "      <th>Player</th>\n",
       "      <th>Pos</th>\n",
       "      <th>Age</th>\n",
       "      <th>Team</th>\n",
       "      <th>Birth Date</th>\n",
       "    </tr>\n",
       "  </thead>\n",
       "  <tbody>\n",
       "    <tr>\n",
       "      <th>0</th>\n",
       "      <td>Alex Abrines</td>\n",
       "      <td>SG</td>\n",
       "      <td>23.0</td>\n",
       "      <td>Oklahoma City Thunder</td>\n",
       "      <td>1993-08-01</td>\n",
       "    </tr>\n",
       "    <tr>\n",
       "      <th>1</th>\n",
       "      <td>Quincy Acy</td>\n",
       "      <td>PF</td>\n",
       "      <td>26.0</td>\n",
       "      <td>Dallas Mavericks</td>\n",
       "      <td>1990-10-06</td>\n",
       "    </tr>\n",
       "    <tr>\n",
       "      <th>2</th>\n",
       "      <td>Quincy Acy</td>\n",
       "      <td>PF</td>\n",
       "      <td>26.0</td>\n",
       "      <td>Brooklyn Nets</td>\n",
       "      <td>1990-10-06</td>\n",
       "    </tr>\n",
       "    <tr>\n",
       "      <th>3</th>\n",
       "      <td>Steven Adams</td>\n",
       "      <td>C</td>\n",
       "      <td>23.0</td>\n",
       "      <td>Oklahoma City Thunder</td>\n",
       "      <td>1993-07-20</td>\n",
       "    </tr>\n",
       "    <tr>\n",
       "      <th>4</th>\n",
       "      <td>Arron Afflalo</td>\n",
       "      <td>SG</td>\n",
       "      <td>31.0</td>\n",
       "      <td>Sacramento Kings</td>\n",
       "      <td>1985-10-15</td>\n",
       "    </tr>\n",
       "    <tr>\n",
       "      <th>...</th>\n",
       "      <td>...</td>\n",
       "      <td>...</td>\n",
       "      <td>...</td>\n",
       "      <td>...</td>\n",
       "      <td>...</td>\n",
       "    </tr>\n",
       "    <tr>\n",
       "      <th>546</th>\n",
       "      <td>Cody Zeller</td>\n",
       "      <td>PF</td>\n",
       "      <td>24.0</td>\n",
       "      <td>Charlotte Hornets</td>\n",
       "      <td>1992-10-05</td>\n",
       "    </tr>\n",
       "    <tr>\n",
       "      <th>547</th>\n",
       "      <td>Tyler Zeller</td>\n",
       "      <td>C</td>\n",
       "      <td>27.0</td>\n",
       "      <td>Boston Celtics</td>\n",
       "      <td>1990-01-17</td>\n",
       "    </tr>\n",
       "    <tr>\n",
       "      <th>548</th>\n",
       "      <td>Stephen Zimmerman</td>\n",
       "      <td>C</td>\n",
       "      <td>20.0</td>\n",
       "      <td>Orlando Magic</td>\n",
       "      <td>1996-09-09</td>\n",
       "    </tr>\n",
       "    <tr>\n",
       "      <th>549</th>\n",
       "      <td>Paul Zipser</td>\n",
       "      <td>SF</td>\n",
       "      <td>22.0</td>\n",
       "      <td>Chicago Bulls</td>\n",
       "      <td>1994-02-18</td>\n",
       "    </tr>\n",
       "    <tr>\n",
       "      <th>550</th>\n",
       "      <td>Ivica Zubac</td>\n",
       "      <td>C</td>\n",
       "      <td>19.0</td>\n",
       "      <td>Los Angeles Lakers</td>\n",
       "      <td>1997-03-18</td>\n",
       "    </tr>\n",
       "  </tbody>\n",
       "</table>\n",
       "<p>551 rows × 5 columns</p>\n",
       "</div>"
      ],
      "text/plain": [
       "                Player Pos   Age                   Team Birth Date\n",
       "0         Alex Abrines  SG  23.0  Oklahoma City Thunder 1993-08-01\n",
       "1           Quincy Acy  PF  26.0       Dallas Mavericks 1990-10-06\n",
       "2           Quincy Acy  PF  26.0          Brooklyn Nets 1990-10-06\n",
       "3         Steven Adams   C  23.0  Oklahoma City Thunder 1993-07-20\n",
       "4        Arron Afflalo  SG  31.0       Sacramento Kings 1985-10-15\n",
       "..                 ...  ..   ...                    ...        ...\n",
       "546        Cody Zeller  PF  24.0      Charlotte Hornets 1992-10-05\n",
       "547       Tyler Zeller   C  27.0         Boston Celtics 1990-01-17\n",
       "548  Stephen Zimmerman   C  20.0          Orlando Magic 1996-09-09\n",
       "549        Paul Zipser  SF  22.0          Chicago Bulls 1994-02-18\n",
       "550        Ivica Zubac   C  19.0     Los Angeles Lakers 1997-03-18\n",
       "\n",
       "[551 rows x 5 columns]"
      ]
     },
     "execution_count": 6,
     "metadata": {},
     "output_type": "execute_result"
    }
   ],
   "source": [
    "df = pd.read_csv(\"nba_2017.csv\", parse_dates=[\"Birth Date\"])\n",
    "df"
   ]
  },
  {
   "cell_type": "code",
   "execution_count": 8,
   "id": "c79702537ac69075",
   "metadata": {
    "ExecuteTime": {
     "end_time": "2024-12-11T15:40:31.333604Z",
     "start_time": "2024-12-11T15:40:31.329417Z"
    }
   },
   "outputs": [
    {
     "data": {
      "text/plain": [
       "Team\n",
       "New Orleans Pelicans      27\n",
       "Dallas Mavericks          24\n",
       "Cleveland Cavaliers       22\n",
       "Philadelphia 76ers        22\n",
       "Atlanta Hawks             22\n",
       "Brooklyn Nets             21\n",
       "Milwaukee Bucks           20\n",
       "Oklahoma City Thunder     19\n",
       "Denver Nuggets            19\n",
       "Charlotte Hornets         19\n",
       "Los Angeles Lakers        19\n",
       "Sacramento Kings          19\n",
       "Orlando Magic             19\n",
       "Phoenix Suns              18\n",
       "Washington Wizards        18\n",
       "Houston Rockets           18\n",
       "Chicago Bulls             18\n",
       "Golden State Warriors     17\n",
       "Toronto Raptors           17\n",
       "Memphis Grizzlies         17\n",
       "Indiana Pacers            17\n",
       "San Antonio Spurs         17\n",
       "Minnesota Timberwolves    16\n",
       "New York Knicks           16\n",
       "Miami Heat                15\n",
       "Los Angeles Clippers      15\n",
       "Portland Trail Blazers    15\n",
       "Detroit Pistons           15\n",
       "Utah Jazz                 15\n",
       "Boston Celtics            15\n",
       "Name: count, dtype: int64"
      ]
     },
     "execution_count": 8,
     "metadata": {},
     "output_type": "execute_result"
    }
   ],
   "source": [
    "df[\"Team\"].value_counts()"
   ]
  },
  {
   "cell_type": "code",
   "execution_count": 9,
   "id": "f2b386270d0aebfd",
   "metadata": {
    "ExecuteTime": {
     "end_time": "2024-12-11T15:48:12.457347Z",
     "start_time": "2024-12-11T15:48:12.455136Z"
    }
   },
   "outputs": [],
   "source": [
    "def nCr(n,k):\n",
    "    f = math.factorial\n",
    "    return f(n)/(f(k)*f(n-k))"
   ]
  },
  {
   "cell_type": "code",
   "execution_count": 12,
   "id": "a3a7d3bed0730f4c",
   "metadata": {
    "ExecuteTime": {
     "end_time": "2024-12-11T15:48:35.364283Z",
     "start_time": "2024-12-11T15:48:35.361440Z"
    }
   },
   "outputs": [
    {
     "data": {
      "text/plain": [
       "21.0"
      ]
     },
     "execution_count": 12,
     "metadata": {},
     "output_type": "execute_result"
    }
   ],
   "source": [
    "nCr(7,2)"
   ]
  },
  {
   "cell_type": "code",
   "execution_count": null,
   "id": "61f9b19730e8bfff",
   "metadata": {},
   "outputs": [],
   "source": []
  },
  {
   "cell_type": "markdown",
   "id": "b4e941ded6ba30c1",
   "metadata": {},
   "source": [
    "### What's the probability when n = 10?\n",
    "What's the (approximate) probability of two people sharing a birthday in a group of 10 people?"
   ]
  },
  {
   "cell_type": "code",
   "execution_count": 13,
   "id": "76312a48f1974f1d",
   "metadata": {
    "ExecuteTime": {
     "end_time": "2024-12-11T16:04:52.136853Z",
     "start_time": "2024-12-11T16:04:52.134261Z"
    }
   },
   "outputs": [
    {
     "data": {
      "text/plain": [
       "0.11614023654879224"
      ]
     },
     "execution_count": 13,
     "metadata": {},
     "output_type": "execute_result"
    }
   ],
   "source": [
    "1-((364/365)**(nCr(10,2)))"
   ]
  },
  {
   "cell_type": "markdown",
   "id": "ca0f427dbd0bdf01",
   "metadata": {},
   "source": [
    "### Implement the function `birthday_probability`"
   ]
  },
  {
   "cell_type": "code",
   "execution_count": 25,
   "id": "f1361c98b63a84d3",
   "metadata": {
    "ExecuteTime": {
     "end_time": "2024-12-11T16:09:06.725097Z",
     "start_time": "2024-12-11T16:09:06.722615Z"
    }
   },
   "outputs": [],
   "source": [
    "def birthday_probability(number_of_people):\n",
    "    pairs = nCr(number_of_people,2)\n",
    "    return 1-((364/365)**pairs)"
   ]
  },
  {
   "cell_type": "markdown",
   "id": "b64a4eeac27102f5",
   "metadata": {},
   "source": [
    "### Probability when n=15"
   ]
  },
  {
   "cell_type": "code",
   "execution_count": 27,
   "id": "90cfc2ac5b59e022",
   "metadata": {
    "ExecuteTime": {
     "end_time": "2024-12-11T16:09:54.828487Z",
     "start_time": "2024-12-11T16:09:54.826017Z"
    }
   },
   "outputs": [
    {
     "data": {
      "text/plain": [
       "0.25028790861398265"
      ]
     },
     "execution_count": 27,
     "metadata": {},
     "output_type": "execute_result"
    }
   ],
   "source": [
    "birthday_probability(15)"
   ]
  },
  {
   "cell_type": "markdown",
   "id": "5edfb0771c8dfab0",
   "metadata": {},
   "source": [
    "### Create the column Birthday in the df\n",
    "Use the column Birth Date to extract the \"Birthday\" (just Month and Day) for each player in the format MM-DD. Example: 08-01 is August, 1st."
   ]
  },
  {
   "cell_type": "code",
   "execution_count": 28,
   "id": "a3aa7e7d88be214",
   "metadata": {
    "ExecuteTime": {
     "end_time": "2024-12-11T16:12:26.780828Z",
     "start_time": "2024-12-11T16:12:26.775937Z"
    }
   },
   "outputs": [
    {
     "data": {
      "text/html": [
       "<div>\n",
       "<style scoped>\n",
       "    .dataframe tbody tr th:only-of-type {\n",
       "        vertical-align: middle;\n",
       "    }\n",
       "\n",
       "    .dataframe tbody tr th {\n",
       "        vertical-align: top;\n",
       "    }\n",
       "\n",
       "    .dataframe thead th {\n",
       "        text-align: right;\n",
       "    }\n",
       "</style>\n",
       "<table border=\"1\" class=\"dataframe\">\n",
       "  <thead>\n",
       "    <tr style=\"text-align: right;\">\n",
       "      <th></th>\n",
       "      <th>Player</th>\n",
       "      <th>Pos</th>\n",
       "      <th>Age</th>\n",
       "      <th>Team</th>\n",
       "      <th>Birth Date</th>\n",
       "    </tr>\n",
       "  </thead>\n",
       "  <tbody>\n",
       "    <tr>\n",
       "      <th>0</th>\n",
       "      <td>Alex Abrines</td>\n",
       "      <td>SG</td>\n",
       "      <td>23.0</td>\n",
       "      <td>Oklahoma City Thunder</td>\n",
       "      <td>1993-08-01</td>\n",
       "    </tr>\n",
       "    <tr>\n",
       "      <th>1</th>\n",
       "      <td>Quincy Acy</td>\n",
       "      <td>PF</td>\n",
       "      <td>26.0</td>\n",
       "      <td>Dallas Mavericks</td>\n",
       "      <td>1990-10-06</td>\n",
       "    </tr>\n",
       "    <tr>\n",
       "      <th>2</th>\n",
       "      <td>Quincy Acy</td>\n",
       "      <td>PF</td>\n",
       "      <td>26.0</td>\n",
       "      <td>Brooklyn Nets</td>\n",
       "      <td>1990-10-06</td>\n",
       "    </tr>\n",
       "    <tr>\n",
       "      <th>3</th>\n",
       "      <td>Steven Adams</td>\n",
       "      <td>C</td>\n",
       "      <td>23.0</td>\n",
       "      <td>Oklahoma City Thunder</td>\n",
       "      <td>1993-07-20</td>\n",
       "    </tr>\n",
       "    <tr>\n",
       "      <th>4</th>\n",
       "      <td>Arron Afflalo</td>\n",
       "      <td>SG</td>\n",
       "      <td>31.0</td>\n",
       "      <td>Sacramento Kings</td>\n",
       "      <td>1985-10-15</td>\n",
       "    </tr>\n",
       "  </tbody>\n",
       "</table>\n",
       "</div>"
      ],
      "text/plain": [
       "          Player Pos   Age                   Team Birth Date\n",
       "0   Alex Abrines  SG  23.0  Oklahoma City Thunder 1993-08-01\n",
       "1     Quincy Acy  PF  26.0       Dallas Mavericks 1990-10-06\n",
       "2     Quincy Acy  PF  26.0          Brooklyn Nets 1990-10-06\n",
       "3   Steven Adams   C  23.0  Oklahoma City Thunder 1993-07-20\n",
       "4  Arron Afflalo  SG  31.0       Sacramento Kings 1985-10-15"
      ]
     },
     "execution_count": 28,
     "metadata": {},
     "output_type": "execute_result"
    }
   ],
   "source": [
    "df.head()"
   ]
  },
  {
   "cell_type": "code",
   "execution_count": 31,
   "id": "b87483e1b9474541",
   "metadata": {
    "ExecuteTime": {
     "end_time": "2024-12-11T16:15:24.409326Z",
     "start_time": "2024-12-11T16:15:24.401560Z"
    }
   },
   "outputs": [
    {
     "data": {
      "text/html": [
       "<div>\n",
       "<style scoped>\n",
       "    .dataframe tbody tr th:only-of-type {\n",
       "        vertical-align: middle;\n",
       "    }\n",
       "\n",
       "    .dataframe tbody tr th {\n",
       "        vertical-align: top;\n",
       "    }\n",
       "\n",
       "    .dataframe thead th {\n",
       "        text-align: right;\n",
       "    }\n",
       "</style>\n",
       "<table border=\"1\" class=\"dataframe\">\n",
       "  <thead>\n",
       "    <tr style=\"text-align: right;\">\n",
       "      <th></th>\n",
       "      <th>Player</th>\n",
       "      <th>Pos</th>\n",
       "      <th>Age</th>\n",
       "      <th>Team</th>\n",
       "      <th>Birth Date</th>\n",
       "      <th>Birth Day</th>\n",
       "    </tr>\n",
       "  </thead>\n",
       "  <tbody>\n",
       "    <tr>\n",
       "      <th>0</th>\n",
       "      <td>Alex Abrines</td>\n",
       "      <td>SG</td>\n",
       "      <td>23.0</td>\n",
       "      <td>Oklahoma City Thunder</td>\n",
       "      <td>1993-08-01</td>\n",
       "      <td>08-01</td>\n",
       "    </tr>\n",
       "    <tr>\n",
       "      <th>1</th>\n",
       "      <td>Quincy Acy</td>\n",
       "      <td>PF</td>\n",
       "      <td>26.0</td>\n",
       "      <td>Dallas Mavericks</td>\n",
       "      <td>1990-10-06</td>\n",
       "      <td>10-06</td>\n",
       "    </tr>\n",
       "    <tr>\n",
       "      <th>2</th>\n",
       "      <td>Quincy Acy</td>\n",
       "      <td>PF</td>\n",
       "      <td>26.0</td>\n",
       "      <td>Brooklyn Nets</td>\n",
       "      <td>1990-10-06</td>\n",
       "      <td>10-06</td>\n",
       "    </tr>\n",
       "    <tr>\n",
       "      <th>3</th>\n",
       "      <td>Steven Adams</td>\n",
       "      <td>C</td>\n",
       "      <td>23.0</td>\n",
       "      <td>Oklahoma City Thunder</td>\n",
       "      <td>1993-07-20</td>\n",
       "      <td>07-20</td>\n",
       "    </tr>\n",
       "    <tr>\n",
       "      <th>4</th>\n",
       "      <td>Arron Afflalo</td>\n",
       "      <td>SG</td>\n",
       "      <td>31.0</td>\n",
       "      <td>Sacramento Kings</td>\n",
       "      <td>1985-10-15</td>\n",
       "      <td>10-15</td>\n",
       "    </tr>\n",
       "    <tr>\n",
       "      <th>...</th>\n",
       "      <td>...</td>\n",
       "      <td>...</td>\n",
       "      <td>...</td>\n",
       "      <td>...</td>\n",
       "      <td>...</td>\n",
       "      <td>...</td>\n",
       "    </tr>\n",
       "    <tr>\n",
       "      <th>546</th>\n",
       "      <td>Cody Zeller</td>\n",
       "      <td>PF</td>\n",
       "      <td>24.0</td>\n",
       "      <td>Charlotte Hornets</td>\n",
       "      <td>1992-10-05</td>\n",
       "      <td>10-05</td>\n",
       "    </tr>\n",
       "    <tr>\n",
       "      <th>547</th>\n",
       "      <td>Tyler Zeller</td>\n",
       "      <td>C</td>\n",
       "      <td>27.0</td>\n",
       "      <td>Boston Celtics</td>\n",
       "      <td>1990-01-17</td>\n",
       "      <td>01-17</td>\n",
       "    </tr>\n",
       "    <tr>\n",
       "      <th>548</th>\n",
       "      <td>Stephen Zimmerman</td>\n",
       "      <td>C</td>\n",
       "      <td>20.0</td>\n",
       "      <td>Orlando Magic</td>\n",
       "      <td>1996-09-09</td>\n",
       "      <td>09-09</td>\n",
       "    </tr>\n",
       "    <tr>\n",
       "      <th>549</th>\n",
       "      <td>Paul Zipser</td>\n",
       "      <td>SF</td>\n",
       "      <td>22.0</td>\n",
       "      <td>Chicago Bulls</td>\n",
       "      <td>1994-02-18</td>\n",
       "      <td>02-18</td>\n",
       "    </tr>\n",
       "    <tr>\n",
       "      <th>550</th>\n",
       "      <td>Ivica Zubac</td>\n",
       "      <td>C</td>\n",
       "      <td>19.0</td>\n",
       "      <td>Los Angeles Lakers</td>\n",
       "      <td>1997-03-18</td>\n",
       "      <td>03-18</td>\n",
       "    </tr>\n",
       "  </tbody>\n",
       "</table>\n",
       "<p>551 rows × 6 columns</p>\n",
       "</div>"
      ],
      "text/plain": [
       "                Player Pos   Age                   Team Birth Date Birth Day\n",
       "0         Alex Abrines  SG  23.0  Oklahoma City Thunder 1993-08-01     08-01\n",
       "1           Quincy Acy  PF  26.0       Dallas Mavericks 1990-10-06     10-06\n",
       "2           Quincy Acy  PF  26.0          Brooklyn Nets 1990-10-06     10-06\n",
       "3         Steven Adams   C  23.0  Oklahoma City Thunder 1993-07-20     07-20\n",
       "4        Arron Afflalo  SG  31.0       Sacramento Kings 1985-10-15     10-15\n",
       "..                 ...  ..   ...                    ...        ...       ...\n",
       "546        Cody Zeller  PF  24.0      Charlotte Hornets 1992-10-05     10-05\n",
       "547       Tyler Zeller   C  27.0         Boston Celtics 1990-01-17     01-17\n",
       "548  Stephen Zimmerman   C  20.0          Orlando Magic 1996-09-09     09-09\n",
       "549        Paul Zipser  SF  22.0          Chicago Bulls 1994-02-18     02-18\n",
       "550        Ivica Zubac   C  19.0     Los Angeles Lakers 1997-03-18     03-18\n",
       "\n",
       "[551 rows x 6 columns]"
      ]
     },
     "execution_count": 31,
     "metadata": {},
     "output_type": "execute_result"
    }
   ],
   "source": [
    "df['Birth Day'] = df['Birth Date'].dt.strftime(\"%m-%d\")\n",
    "df"
   ]
  }
 ],
 "metadata": {
  "kernelspec": {
   "display_name": "Python 3 (ipykernel)",
   "language": "python",
   "name": "python3"
  },
  "language_info": {
   "codemirror_mode": {
    "name": "ipython",
    "version": 3
   },
   "file_extension": ".py",
   "mimetype": "text/x-python",
   "name": "python",
   "nbconvert_exporter": "python",
   "pygments_lexer": "ipython3",
   "version": "3.12.3"
  }
 },
 "nbformat": 4,
 "nbformat_minor": 5
}
