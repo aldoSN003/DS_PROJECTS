{
 "cells": [
  {
   "cell_type": "code",
   "execution_count": 1,
   "id": "d5bf7839-8569-4924-a363-05524b0d0d38",
   "metadata": {},
   "outputs": [
    {
     "name": "stdout",
     "output_type": "stream",
     "text": [
      "riceClassification.csv  Tabular_Data_Classification.ipynb\n"
     ]
    }
   ],
   "source": []
  },
  {
   "cell_type": "code",
   "execution_count": 1,
   "id": "da69f72a-6a2e-4930-9080-9cf94b9d7175",
   "metadata": {},
   "outputs": [
    {
     "data": {
      "text/plain": [
       "'cuda'"
      ]
     },
     "execution_count": 1,
     "metadata": {},
     "output_type": "execute_result"
    }
   ],
   "source": [
    "import torch\n",
    "import torch.nn as nn\n",
    "from torch.optim import Adam\n",
    "from torch.utils.data import Dataset,DataLoader\n",
    "from torchsummary import summary\n",
    "from sklearn.model_selection import train_test_split\n",
    "from sklearn.metrics import accuracy_score\n",
    "import matplotlib.pyplot as plt\n",
    "import pandas as pd\n",
    "import numpy as np\n",
    "\n",
    "#Tell pytorch to use a gpu\n",
    "device = \"cuda\" if torch.cuda.is_available() else \"cpu\"\n",
    "device"
   ]
  },
  {
   "cell_type": "code",
   "execution_count": 2,
   "id": "6fdd6455-2d26-466e-af53-9916c6a71a08",
   "metadata": {},
   "outputs": [],
   "source": [
    "df = pd.read_csv(\"riceClassification.csv\")"
   ]
  },
  {
   "cell_type": "code",
   "execution_count": 3,
   "id": "0c090570-8a95-412c-b01f-4540e0e6b372",
   "metadata": {},
   "outputs": [
    {
     "data": {
      "text/plain": [
       "(18185, 12)"
      ]
     },
     "execution_count": 3,
     "metadata": {},
     "output_type": "execute_result"
    }
   ],
   "source": [
    "df.shape"
   ]
  },
  {
   "cell_type": "code",
   "execution_count": 4,
   "id": "3be029b1-a259-4485-8017-3f15c66e3480",
   "metadata": {},
   "outputs": [
    {
     "data": {
      "text/html": [
       "<div>\n",
       "<style scoped>\n",
       "    .dataframe tbody tr th:only-of-type {\n",
       "        vertical-align: middle;\n",
       "    }\n",
       "\n",
       "    .dataframe tbody tr th {\n",
       "        vertical-align: top;\n",
       "    }\n",
       "\n",
       "    .dataframe thead th {\n",
       "        text-align: right;\n",
       "    }\n",
       "</style>\n",
       "<table border=\"1\" class=\"dataframe\">\n",
       "  <thead>\n",
       "    <tr style=\"text-align: right;\">\n",
       "      <th></th>\n",
       "      <th>id</th>\n",
       "      <th>Area</th>\n",
       "      <th>MajorAxisLength</th>\n",
       "      <th>MinorAxisLength</th>\n",
       "      <th>Eccentricity</th>\n",
       "      <th>ConvexArea</th>\n",
       "      <th>EquivDiameter</th>\n",
       "      <th>Extent</th>\n",
       "      <th>Perimeter</th>\n",
       "      <th>Roundness</th>\n",
       "      <th>AspectRation</th>\n",
       "      <th>Class</th>\n",
       "    </tr>\n",
       "  </thead>\n",
       "  <tbody>\n",
       "    <tr>\n",
       "      <th>0</th>\n",
       "      <td>1</td>\n",
       "      <td>4537</td>\n",
       "      <td>92.229316</td>\n",
       "      <td>64.012769</td>\n",
       "      <td>0.719916</td>\n",
       "      <td>4677</td>\n",
       "      <td>76.004525</td>\n",
       "      <td>0.657536</td>\n",
       "      <td>273.085</td>\n",
       "      <td>0.764510</td>\n",
       "      <td>1.440796</td>\n",
       "      <td>1</td>\n",
       "    </tr>\n",
       "    <tr>\n",
       "      <th>1</th>\n",
       "      <td>2</td>\n",
       "      <td>2872</td>\n",
       "      <td>74.691881</td>\n",
       "      <td>51.400454</td>\n",
       "      <td>0.725553</td>\n",
       "      <td>3015</td>\n",
       "      <td>60.471018</td>\n",
       "      <td>0.713009</td>\n",
       "      <td>208.317</td>\n",
       "      <td>0.831658</td>\n",
       "      <td>1.453137</td>\n",
       "      <td>1</td>\n",
       "    </tr>\n",
       "    <tr>\n",
       "      <th>2</th>\n",
       "      <td>3</td>\n",
       "      <td>3048</td>\n",
       "      <td>76.293164</td>\n",
       "      <td>52.043491</td>\n",
       "      <td>0.731211</td>\n",
       "      <td>3132</td>\n",
       "      <td>62.296341</td>\n",
       "      <td>0.759153</td>\n",
       "      <td>210.012</td>\n",
       "      <td>0.868434</td>\n",
       "      <td>1.465950</td>\n",
       "      <td>1</td>\n",
       "    </tr>\n",
       "    <tr>\n",
       "      <th>3</th>\n",
       "      <td>4</td>\n",
       "      <td>3073</td>\n",
       "      <td>77.033628</td>\n",
       "      <td>51.928487</td>\n",
       "      <td>0.738639</td>\n",
       "      <td>3157</td>\n",
       "      <td>62.551300</td>\n",
       "      <td>0.783529</td>\n",
       "      <td>210.657</td>\n",
       "      <td>0.870203</td>\n",
       "      <td>1.483456</td>\n",
       "      <td>1</td>\n",
       "    </tr>\n",
       "    <tr>\n",
       "      <th>4</th>\n",
       "      <td>5</td>\n",
       "      <td>3693</td>\n",
       "      <td>85.124785</td>\n",
       "      <td>56.374021</td>\n",
       "      <td>0.749282</td>\n",
       "      <td>3802</td>\n",
       "      <td>68.571668</td>\n",
       "      <td>0.769375</td>\n",
       "      <td>230.332</td>\n",
       "      <td>0.874743</td>\n",
       "      <td>1.510000</td>\n",
       "      <td>1</td>\n",
       "    </tr>\n",
       "    <tr>\n",
       "      <th>...</th>\n",
       "      <td>...</td>\n",
       "      <td>...</td>\n",
       "      <td>...</td>\n",
       "      <td>...</td>\n",
       "      <td>...</td>\n",
       "      <td>...</td>\n",
       "      <td>...</td>\n",
       "      <td>...</td>\n",
       "      <td>...</td>\n",
       "      <td>...</td>\n",
       "      <td>...</td>\n",
       "      <td>...</td>\n",
       "    </tr>\n",
       "    <tr>\n",
       "      <th>18180</th>\n",
       "      <td>18181</td>\n",
       "      <td>5853</td>\n",
       "      <td>148.624571</td>\n",
       "      <td>51.029281</td>\n",
       "      <td>0.939210</td>\n",
       "      <td>6008</td>\n",
       "      <td>86.326537</td>\n",
       "      <td>0.498594</td>\n",
       "      <td>332.960</td>\n",
       "      <td>0.663444</td>\n",
       "      <td>2.912535</td>\n",
       "      <td>0</td>\n",
       "    </tr>\n",
       "    <tr>\n",
       "      <th>18181</th>\n",
       "      <td>18182</td>\n",
       "      <td>7585</td>\n",
       "      <td>169.593996</td>\n",
       "      <td>58.141659</td>\n",
       "      <td>0.939398</td>\n",
       "      <td>7806</td>\n",
       "      <td>98.272692</td>\n",
       "      <td>0.647461</td>\n",
       "      <td>385.506</td>\n",
       "      <td>0.641362</td>\n",
       "      <td>2.916910</td>\n",
       "      <td>0</td>\n",
       "    </tr>\n",
       "    <tr>\n",
       "      <th>18182</th>\n",
       "      <td>18183</td>\n",
       "      <td>6365</td>\n",
       "      <td>154.777085</td>\n",
       "      <td>52.908085</td>\n",
       "      <td>0.939760</td>\n",
       "      <td>6531</td>\n",
       "      <td>90.023162</td>\n",
       "      <td>0.561287</td>\n",
       "      <td>342.253</td>\n",
       "      <td>0.682832</td>\n",
       "      <td>2.925396</td>\n",
       "      <td>0</td>\n",
       "    </tr>\n",
       "    <tr>\n",
       "      <th>18183</th>\n",
       "      <td>18184</td>\n",
       "      <td>5960</td>\n",
       "      <td>151.397924</td>\n",
       "      <td>51.474600</td>\n",
       "      <td>0.940427</td>\n",
       "      <td>6189</td>\n",
       "      <td>87.112041</td>\n",
       "      <td>0.492399</td>\n",
       "      <td>343.371</td>\n",
       "      <td>0.635227</td>\n",
       "      <td>2.941216</td>\n",
       "      <td>0</td>\n",
       "    </tr>\n",
       "    <tr>\n",
       "      <th>18184</th>\n",
       "      <td>18185</td>\n",
       "      <td>6134</td>\n",
       "      <td>153.081981</td>\n",
       "      <td>51.590606</td>\n",
       "      <td>0.941500</td>\n",
       "      <td>6283</td>\n",
       "      <td>88.374495</td>\n",
       "      <td>0.489975</td>\n",
       "      <td>338.613</td>\n",
       "      <td>0.672274</td>\n",
       "      <td>2.967245</td>\n",
       "      <td>0</td>\n",
       "    </tr>\n",
       "  </tbody>\n",
       "</table>\n",
       "<p>18185 rows × 12 columns</p>\n",
       "</div>"
      ],
      "text/plain": [
       "          id  Area  MajorAxisLength  MinorAxisLength  Eccentricity  \\\n",
       "0          1  4537        92.229316        64.012769      0.719916   \n",
       "1          2  2872        74.691881        51.400454      0.725553   \n",
       "2          3  3048        76.293164        52.043491      0.731211   \n",
       "3          4  3073        77.033628        51.928487      0.738639   \n",
       "4          5  3693        85.124785        56.374021      0.749282   \n",
       "...      ...   ...              ...              ...           ...   \n",
       "18180  18181  5853       148.624571        51.029281      0.939210   \n",
       "18181  18182  7585       169.593996        58.141659      0.939398   \n",
       "18182  18183  6365       154.777085        52.908085      0.939760   \n",
       "18183  18184  5960       151.397924        51.474600      0.940427   \n",
       "18184  18185  6134       153.081981        51.590606      0.941500   \n",
       "\n",
       "       ConvexArea  EquivDiameter    Extent  Perimeter  Roundness  \\\n",
       "0            4677      76.004525  0.657536    273.085   0.764510   \n",
       "1            3015      60.471018  0.713009    208.317   0.831658   \n",
       "2            3132      62.296341  0.759153    210.012   0.868434   \n",
       "3            3157      62.551300  0.783529    210.657   0.870203   \n",
       "4            3802      68.571668  0.769375    230.332   0.874743   \n",
       "...           ...            ...       ...        ...        ...   \n",
       "18180        6008      86.326537  0.498594    332.960   0.663444   \n",
       "18181        7806      98.272692  0.647461    385.506   0.641362   \n",
       "18182        6531      90.023162  0.561287    342.253   0.682832   \n",
       "18183        6189      87.112041  0.492399    343.371   0.635227   \n",
       "18184        6283      88.374495  0.489975    338.613   0.672274   \n",
       "\n",
       "       AspectRation  Class  \n",
       "0          1.440796      1  \n",
       "1          1.453137      1  \n",
       "2          1.465950      1  \n",
       "3          1.483456      1  \n",
       "4          1.510000      1  \n",
       "...             ...    ...  \n",
       "18180      2.912535      0  \n",
       "18181      2.916910      0  \n",
       "18182      2.925396      0  \n",
       "18183      2.941216      0  \n",
       "18184      2.967245      0  \n",
       "\n",
       "[18185 rows x 12 columns]"
      ]
     },
     "execution_count": 4,
     "metadata": {},
     "output_type": "execute_result"
    }
   ],
   "source": [
    "df"
   ]
  },
  {
   "cell_type": "code",
   "execution_count": 5,
   "id": "e6e87f3b-cc2e-4ea9-8dd5-7c05869125fa",
   "metadata": {},
   "outputs": [
    {
     "data": {
      "text/plain": [
       "Class\n",
       "1    9985\n",
       "0    8200\n",
       "Name: count, dtype: int64"
      ]
     },
     "execution_count": 5,
     "metadata": {},
     "output_type": "execute_result"
    }
   ],
   "source": [
    "df[\"Class\"].value_counts()"
   ]
  },
  {
   "cell_type": "code",
   "execution_count": 6,
   "id": "da3a5359-c7c4-471d-aeb4-eb9a2b0c92b1",
   "metadata": {
    "ExecuteTime": {
     "end_time": "2025-04-25T04:00:31.696010Z",
     "start_time": "2025-04-25T04:00:31.690837Z"
    }
   },
   "outputs": [
    {
     "data": {
      "text/html": [
       "<div>\n",
       "<style scoped>\n",
       "    .dataframe tbody tr th:only-of-type {\n",
       "        vertical-align: middle;\n",
       "    }\n",
       "\n",
       "    .dataframe tbody tr th {\n",
       "        vertical-align: top;\n",
       "    }\n",
       "\n",
       "    .dataframe thead th {\n",
       "        text-align: right;\n",
       "    }\n",
       "</style>\n",
       "<table border=\"1\" class=\"dataframe\">\n",
       "  <thead>\n",
       "    <tr style=\"text-align: right;\">\n",
       "      <th></th>\n",
       "      <th>id</th>\n",
       "      <th>Area</th>\n",
       "      <th>MajorAxisLength</th>\n",
       "      <th>MinorAxisLength</th>\n",
       "      <th>Eccentricity</th>\n",
       "      <th>ConvexArea</th>\n",
       "      <th>EquivDiameter</th>\n",
       "      <th>Extent</th>\n",
       "      <th>Perimeter</th>\n",
       "      <th>Roundness</th>\n",
       "      <th>AspectRation</th>\n",
       "      <th>Class</th>\n",
       "    </tr>\n",
       "  </thead>\n",
       "  <tbody>\n",
       "  </tbody>\n",
       "</table>\n",
       "</div>"
      ],
      "text/plain": [
       "Empty DataFrame\n",
       "Columns: [id, Area, MajorAxisLength, MinorAxisLength, Eccentricity, ConvexArea, EquivDiameter, Extent, Perimeter, Roundness, AspectRation, Class]\n",
       "Index: []"
      ]
     },
     "execution_count": 6,
     "metadata": {},
     "output_type": "execute_result"
    },
    {
     "data": {
      "text/plain": [
       "Empty DataFrame\n",
       "Columns: [id, Area, MajorAxisLength, MinorAxisLength, Eccentricity, ConvexArea, EquivDiameter, Extent, Perimeter, Roundness, AspectRation, Class]\n",
       "Index: []"
      ],
      "text/html": [
       "<div>\n",
       "<style scoped>\n",
       "    .dataframe tbody tr th:only-of-type {\n",
       "        vertical-align: middle;\n",
       "    }\n",
       "\n",
       "    .dataframe tbody tr th {\n",
       "        vertical-align: top;\n",
       "    }\n",
       "\n",
       "    .dataframe thead th {\n",
       "        text-align: right;\n",
       "    }\n",
       "</style>\n",
       "<table border=\"1\" class=\"dataframe\">\n",
       "  <thead>\n",
       "    <tr style=\"text-align: right;\">\n",
       "      <th></th>\n",
       "      <th>id</th>\n",
       "      <th>Area</th>\n",
       "      <th>MajorAxisLength</th>\n",
       "      <th>MinorAxisLength</th>\n",
       "      <th>Eccentricity</th>\n",
       "      <th>ConvexArea</th>\n",
       "      <th>EquivDiameter</th>\n",
       "      <th>Extent</th>\n",
       "      <th>Perimeter</th>\n",
       "      <th>Roundness</th>\n",
       "      <th>AspectRation</th>\n",
       "      <th>Class</th>\n",
       "    </tr>\n",
       "  </thead>\n",
       "  <tbody>\n",
       "  </tbody>\n",
       "</table>\n",
       "</div>"
      ]
     },
     "execution_count": 6,
     "metadata": {},
     "output_type": "execute_result"
    }
   ],
   "source": [
    "df.loc[df.isna().any(axis=1)]"
   ]
  },
  {
   "cell_type": "code",
   "id": "8f1a89ed-b117-4a34-a3fa-279e9abcda18",
   "metadata": {
    "ExecuteTime": {
     "end_time": "2025-04-25T04:00:51.322123Z",
     "start_time": "2025-04-25T04:00:51.315022Z"
    }
   },
   "source": [
    "\n",
    "# inplace=True modifies the original df, meaning it does\n",
    "#not create a copy as it normally does (inplace is set to False by default)\n",
    "\n",
    "# 1. Drop any null values (even if there is only one, the entire row will be removed)\n",
    "df.dropna(inplace=True)\n",
    "\n",
    "# 2. Drop \"id\" column, since it is not required\n",
    "df.drop([\"id\"], axis=1, inplace=True)\n",
    "df.shape"
   ],
   "outputs": [
    {
     "data": {
      "text/plain": [
       "(18185, 11)"
      ]
     },
     "execution_count": 7,
     "metadata": {},
     "output_type": "execute_result"
    }
   ],
   "execution_count": 7
  },
  {
   "cell_type": "markdown",
   "id": "7b72c19c-7e89-4fcd-ade8-b4895c74e82d",
   "metadata": {},
   "source": [
    "## Max-Abs Normalization (Maximum Absolute Scaling)\n",
    "\n",
    "> Max-Abs Normalization scales each feature individually by dividing it by its maximum absolute value, such that the resulting values lie in the range **[-1, 1]**.\n",
    "\n",
    " **Mathematical Formula:**\n",
    "$$\n",
    "X_i^{\\text{normalized}} = \\frac{x_i}{\\max(|X|)}\n",
    "$$\n",
    "\n",
    "Where:\n",
    "\n",
    "- $max(∣X∣)$ is the **maximum absolute value** in the column $X$\n",
    "- This ensures that the largest value (in magnitude) becomes **1 or -1**"
   ]
  },
  {
   "cell_type": "code",
   "id": "527fe3e3-fa76-4642-96ac-399b2ac44043",
   "metadata": {
    "ExecuteTime": {
     "end_time": "2025-04-25T04:00:51.492596Z",
     "start_time": "2025-04-25T04:00:51.479527Z"
    }
   },
   "source": [
    "  #Normalize values\n",
    "\n",
    "df_o =df.copy()\n",
    "\n",
    "for column in df.columns:\n",
    "    df[column] = df[column]/df[column].abs().max()\n",
    "\n",
    "\n",
    "df"
   ],
   "outputs": [
    {
     "data": {
      "text/plain": [
       "           Area  MajorAxisLength  MinorAxisLength  Eccentricity  ConvexArea  \\\n",
       "0      0.444368         0.503404         0.775435      0.744658    0.424873   \n",
       "1      0.281293         0.407681         0.622653      0.750489    0.273892   \n",
       "2      0.298531         0.416421         0.630442      0.756341    0.284520   \n",
       "3      0.300979         0.420463         0.629049      0.764024    0.286791   \n",
       "4      0.361704         0.464626         0.682901      0.775033    0.345385   \n",
       "...         ...              ...              ...           ...         ...   \n",
       "18180  0.573262         0.811219         0.618156      0.971489    0.545785   \n",
       "18181  0.742899         0.925674         0.704314      0.971683    0.709121   \n",
       "18182  0.623408         0.844800         0.640916      0.972058    0.593296   \n",
       "18183  0.583741         0.826356         0.623551      0.972748    0.562227   \n",
       "18184  0.600784         0.835548         0.624956      0.973858    0.570767   \n",
       "\n",
       "       EquivDiameter    Extent  Perimeter  Roundness  AspectRation  Class  \n",
       "0           0.666610  0.741661   0.537029   0.844997      0.368316    1.0  \n",
       "1           0.530370  0.804230   0.409661   0.919215      0.371471    1.0  \n",
       "2           0.546380  0.856278   0.412994   0.959862      0.374747    1.0  \n",
       "3           0.548616  0.883772   0.414262   0.961818      0.379222    1.0  \n",
       "4           0.601418  0.867808   0.452954   0.966836      0.386007    1.0  \n",
       "...              ...       ...        ...        ...           ...    ...  \n",
       "18180       0.757140  0.562384   0.654774   0.733291      0.744543    0.0  \n",
       "18181       0.861916  0.730296   0.758107   0.708884      0.745661    0.0  \n",
       "18182       0.789562  0.633098   0.673049   0.754720      0.747830    0.0  \n",
       "18183       0.764030  0.555396   0.675248   0.702103      0.751874    0.0  \n",
       "18184       0.775102  0.552662   0.665891   0.743051      0.758528    0.0  \n",
       "\n",
       "[18185 rows x 11 columns]"
      ],
      "text/html": [
       "<div>\n",
       "<style scoped>\n",
       "    .dataframe tbody tr th:only-of-type {\n",
       "        vertical-align: middle;\n",
       "    }\n",
       "\n",
       "    .dataframe tbody tr th {\n",
       "        vertical-align: top;\n",
       "    }\n",
       "\n",
       "    .dataframe thead th {\n",
       "        text-align: right;\n",
       "    }\n",
       "</style>\n",
       "<table border=\"1\" class=\"dataframe\">\n",
       "  <thead>\n",
       "    <tr style=\"text-align: right;\">\n",
       "      <th></th>\n",
       "      <th>Area</th>\n",
       "      <th>MajorAxisLength</th>\n",
       "      <th>MinorAxisLength</th>\n",
       "      <th>Eccentricity</th>\n",
       "      <th>ConvexArea</th>\n",
       "      <th>EquivDiameter</th>\n",
       "      <th>Extent</th>\n",
       "      <th>Perimeter</th>\n",
       "      <th>Roundness</th>\n",
       "      <th>AspectRation</th>\n",
       "      <th>Class</th>\n",
       "    </tr>\n",
       "  </thead>\n",
       "  <tbody>\n",
       "    <tr>\n",
       "      <th>0</th>\n",
       "      <td>0.444368</td>\n",
       "      <td>0.503404</td>\n",
       "      <td>0.775435</td>\n",
       "      <td>0.744658</td>\n",
       "      <td>0.424873</td>\n",
       "      <td>0.666610</td>\n",
       "      <td>0.741661</td>\n",
       "      <td>0.537029</td>\n",
       "      <td>0.844997</td>\n",
       "      <td>0.368316</td>\n",
       "      <td>1.0</td>\n",
       "    </tr>\n",
       "    <tr>\n",
       "      <th>1</th>\n",
       "      <td>0.281293</td>\n",
       "      <td>0.407681</td>\n",
       "      <td>0.622653</td>\n",
       "      <td>0.750489</td>\n",
       "      <td>0.273892</td>\n",
       "      <td>0.530370</td>\n",
       "      <td>0.804230</td>\n",
       "      <td>0.409661</td>\n",
       "      <td>0.919215</td>\n",
       "      <td>0.371471</td>\n",
       "      <td>1.0</td>\n",
       "    </tr>\n",
       "    <tr>\n",
       "      <th>2</th>\n",
       "      <td>0.298531</td>\n",
       "      <td>0.416421</td>\n",
       "      <td>0.630442</td>\n",
       "      <td>0.756341</td>\n",
       "      <td>0.284520</td>\n",
       "      <td>0.546380</td>\n",
       "      <td>0.856278</td>\n",
       "      <td>0.412994</td>\n",
       "      <td>0.959862</td>\n",
       "      <td>0.374747</td>\n",
       "      <td>1.0</td>\n",
       "    </tr>\n",
       "    <tr>\n",
       "      <th>3</th>\n",
       "      <td>0.300979</td>\n",
       "      <td>0.420463</td>\n",
       "      <td>0.629049</td>\n",
       "      <td>0.764024</td>\n",
       "      <td>0.286791</td>\n",
       "      <td>0.548616</td>\n",
       "      <td>0.883772</td>\n",
       "      <td>0.414262</td>\n",
       "      <td>0.961818</td>\n",
       "      <td>0.379222</td>\n",
       "      <td>1.0</td>\n",
       "    </tr>\n",
       "    <tr>\n",
       "      <th>4</th>\n",
       "      <td>0.361704</td>\n",
       "      <td>0.464626</td>\n",
       "      <td>0.682901</td>\n",
       "      <td>0.775033</td>\n",
       "      <td>0.345385</td>\n",
       "      <td>0.601418</td>\n",
       "      <td>0.867808</td>\n",
       "      <td>0.452954</td>\n",
       "      <td>0.966836</td>\n",
       "      <td>0.386007</td>\n",
       "      <td>1.0</td>\n",
       "    </tr>\n",
       "    <tr>\n",
       "      <th>...</th>\n",
       "      <td>...</td>\n",
       "      <td>...</td>\n",
       "      <td>...</td>\n",
       "      <td>...</td>\n",
       "      <td>...</td>\n",
       "      <td>...</td>\n",
       "      <td>...</td>\n",
       "      <td>...</td>\n",
       "      <td>...</td>\n",
       "      <td>...</td>\n",
       "      <td>...</td>\n",
       "    </tr>\n",
       "    <tr>\n",
       "      <th>18180</th>\n",
       "      <td>0.573262</td>\n",
       "      <td>0.811219</td>\n",
       "      <td>0.618156</td>\n",
       "      <td>0.971489</td>\n",
       "      <td>0.545785</td>\n",
       "      <td>0.757140</td>\n",
       "      <td>0.562384</td>\n",
       "      <td>0.654774</td>\n",
       "      <td>0.733291</td>\n",
       "      <td>0.744543</td>\n",
       "      <td>0.0</td>\n",
       "    </tr>\n",
       "    <tr>\n",
       "      <th>18181</th>\n",
       "      <td>0.742899</td>\n",
       "      <td>0.925674</td>\n",
       "      <td>0.704314</td>\n",
       "      <td>0.971683</td>\n",
       "      <td>0.709121</td>\n",
       "      <td>0.861916</td>\n",
       "      <td>0.730296</td>\n",
       "      <td>0.758107</td>\n",
       "      <td>0.708884</td>\n",
       "      <td>0.745661</td>\n",
       "      <td>0.0</td>\n",
       "    </tr>\n",
       "    <tr>\n",
       "      <th>18182</th>\n",
       "      <td>0.623408</td>\n",
       "      <td>0.844800</td>\n",
       "      <td>0.640916</td>\n",
       "      <td>0.972058</td>\n",
       "      <td>0.593296</td>\n",
       "      <td>0.789562</td>\n",
       "      <td>0.633098</td>\n",
       "      <td>0.673049</td>\n",
       "      <td>0.754720</td>\n",
       "      <td>0.747830</td>\n",
       "      <td>0.0</td>\n",
       "    </tr>\n",
       "    <tr>\n",
       "      <th>18183</th>\n",
       "      <td>0.583741</td>\n",
       "      <td>0.826356</td>\n",
       "      <td>0.623551</td>\n",
       "      <td>0.972748</td>\n",
       "      <td>0.562227</td>\n",
       "      <td>0.764030</td>\n",
       "      <td>0.555396</td>\n",
       "      <td>0.675248</td>\n",
       "      <td>0.702103</td>\n",
       "      <td>0.751874</td>\n",
       "      <td>0.0</td>\n",
       "    </tr>\n",
       "    <tr>\n",
       "      <th>18184</th>\n",
       "      <td>0.600784</td>\n",
       "      <td>0.835548</td>\n",
       "      <td>0.624956</td>\n",
       "      <td>0.973858</td>\n",
       "      <td>0.570767</td>\n",
       "      <td>0.775102</td>\n",
       "      <td>0.552662</td>\n",
       "      <td>0.665891</td>\n",
       "      <td>0.743051</td>\n",
       "      <td>0.758528</td>\n",
       "      <td>0.0</td>\n",
       "    </tr>\n",
       "  </tbody>\n",
       "</table>\n",
       "<p>18185 rows × 11 columns</p>\n",
       "</div>"
      ]
     },
     "execution_count": 8,
     "metadata": {},
     "output_type": "execute_result"
    }
   ],
   "execution_count": 8
  },
  {
   "cell_type": "code",
   "id": "f2554c88-afeb-400b-a123-89408ec4481c",
   "metadata": {
    "ExecuteTime": {
     "end_time": "2025-04-25T04:00:51.962666Z",
     "start_time": "2025-04-25T04:00:51.571647Z"
    }
   },
   "source": [
    "import seaborn as sns\n",
    "fig, (ax1,ax2,ax3) = plt.subplots(ncols=3, figsize=(12, 5))\n",
    "#Before scaling\n",
    "ax1.set_title(\"Before scaling\")\n",
    "sns.kdeplot(df_o[\"Area\"], ax=ax1)\n",
    "\n",
    "ax2.set_title(\"Before scaling\")\n",
    "sns.histplot(df_o[\"Area\"], ax=ax2, bins=30)  # Use histogram for actual counts\n",
    "\n",
    "\n",
    "#After scaling\n",
    "ax3.set_title(\"After scaling\")\n",
    "sns.kdeplot(df[\"Area\"], ax=ax3)\n",
    "\n",
    "\n",
    "plt.show()"
   ],
   "outputs": [
    {
     "data": {
      "text/plain": [
       "<Figure size 1200x500 with 3 Axes>"
      ],
      "image/png": "[encoded data removed]"
     },
     "metadata": {},
     "output_type": "display_data"
    }
   ],
   "execution_count": 9
  },
  {
   "cell_type": "markdown",
   "id": "d40a7b7f-4c3b-4b4c-87c5-b2b886b3ad73",
   "metadata": {},
   "source": [
    "## Spliting dataset"
   ]
  },
  {
   "cell_type": "code",
   "id": "34007095-960d-41d2-aa88-cf5964b9934f",
   "metadata": {
    "ExecuteTime": {
     "end_time": "2025-04-25T04:00:52.020011Z",
     "start_time": "2025-04-25T04:00:52.015414Z"
    }
   },
   "source": [
    "#Splitting data set\n",
    "\n",
    "# Take all rows \":\", and take all columns except the last one \":-1\"\n",
    "\n",
    "X = np.array(df.iloc[:,:-1])\n",
    "\n",
    "\n",
    "# Take all rows \":\", and take only the last column\n",
    "Y = np.array(df.iloc[:,-1])"
   ],
   "outputs": [],
   "execution_count": 10
  },
  {
   "cell_type": "code",
   "id": "fe390feb-5b71-41f4-bf60-977280f7652c",
   "metadata": {
    "ExecuteTime": {
     "end_time": "2025-04-25T04:00:52.078608Z",
     "start_time": "2025-04-25T04:00:52.069211Z"
    }
   },
   "source": [
    "df.iloc[:,:-1]"
   ],
   "outputs": [
    {
     "data": {
      "text/plain": [
       "           Area  MajorAxisLength  MinorAxisLength  Eccentricity  ConvexArea  \\\n",
       "0      0.444368         0.503404         0.775435      0.744658    0.424873   \n",
       "1      0.281293         0.407681         0.622653      0.750489    0.273892   \n",
       "2      0.298531         0.416421         0.630442      0.756341    0.284520   \n",
       "3      0.300979         0.420463         0.629049      0.764024    0.286791   \n",
       "4      0.361704         0.464626         0.682901      0.775033    0.345385   \n",
       "...         ...              ...              ...           ...         ...   \n",
       "18180  0.573262         0.811219         0.618156      0.971489    0.545785   \n",
       "18181  0.742899         0.925674         0.704314      0.971683    0.709121   \n",
       "18182  0.623408         0.844800         0.640916      0.972058    0.593296   \n",
       "18183  0.583741         0.826356         0.623551      0.972748    0.562227   \n",
       "18184  0.600784         0.835548         0.624956      0.973858    0.570767   \n",
       "\n",
       "       EquivDiameter    Extent  Perimeter  Roundness  AspectRation  \n",
       "0           0.666610  0.741661   0.537029   0.844997      0.368316  \n",
       "1           0.530370  0.804230   0.409661   0.919215      0.371471  \n",
       "2           0.546380  0.856278   0.412994   0.959862      0.374747  \n",
       "3           0.548616  0.883772   0.414262   0.961818      0.379222  \n",
       "4           0.601418  0.867808   0.452954   0.966836      0.386007  \n",
       "...              ...       ...        ...        ...           ...  \n",
       "18180       0.757140  0.562384   0.654774   0.733291      0.744543  \n",
       "18181       0.861916  0.730296   0.758107   0.708884      0.745661  \n",
       "18182       0.789562  0.633098   0.673049   0.754720      0.747830  \n",
       "18183       0.764030  0.555396   0.675248   0.702103      0.751874  \n",
       "18184       0.775102  0.552662   0.665891   0.743051      0.758528  \n",
       "\n",
       "[18185 rows x 10 columns]"
      ],
      "text/html": [
       "<div>\n",
       "<style scoped>\n",
       "    .dataframe tbody tr th:only-of-type {\n",
       "        vertical-align: middle;\n",
       "    }\n",
       "\n",
       "    .dataframe tbody tr th {\n",
       "        vertical-align: top;\n",
       "    }\n",
       "\n",
       "    .dataframe thead th {\n",
       "        text-align: right;\n",
       "    }\n",
       "</style>\n",
       "<table border=\"1\" class=\"dataframe\">\n",
       "  <thead>\n",
       "    <tr style=\"text-align: right;\">\n",
       "      <th></th>\n",
       "      <th>Area</th>\n",
       "      <th>MajorAxisLength</th>\n",
       "      <th>MinorAxisLength</th>\n",
       "      <th>Eccentricity</th>\n",
       "      <th>ConvexArea</th>\n",
       "      <th>EquivDiameter</th>\n",
       "      <th>Extent</th>\n",
       "      <th>Perimeter</th>\n",
       "      <th>Roundness</th>\n",
       "      <th>AspectRation</th>\n",
       "    </tr>\n",
       "  </thead>\n",
       "  <tbody>\n",
       "    <tr>\n",
       "      <th>0</th>\n",
       "      <td>0.444368</td>\n",
       "      <td>0.503404</td>\n",
       "      <td>0.775435</td>\n",
       "      <td>0.744658</td>\n",
       "      <td>0.424873</td>\n",
       "      <td>0.666610</td>\n",
       "      <td>0.741661</td>\n",
       "      <td>0.537029</td>\n",
       "      <td>0.844997</td>\n",
       "      <td>0.368316</td>\n",
       "    </tr>\n",
       "    <tr>\n",
       "      <th>1</th>\n",
       "      <td>0.281293</td>\n",
       "      <td>0.407681</td>\n",
       "      <td>0.622653</td>\n",
       "      <td>0.750489</td>\n",
       "      <td>0.273892</td>\n",
       "      <td>0.530370</td>\n",
       "      <td>0.804230</td>\n",
       "      <td>0.409661</td>\n",
       "      <td>0.919215</td>\n",
       "      <td>0.371471</td>\n",
       "    </tr>\n",
       "    <tr>\n",
       "      <th>2</th>\n",
       "      <td>0.298531</td>\n",
       "      <td>0.416421</td>\n",
       "      <td>0.630442</td>\n",
       "      <td>0.756341</td>\n",
       "      <td>0.284520</td>\n",
       "      <td>0.546380</td>\n",
       "      <td>0.856278</td>\n",
       "      <td>0.412994</td>\n",
       "      <td>0.959862</td>\n",
       "      <td>0.374747</td>\n",
       "    </tr>\n",
       "    <tr>\n",
       "      <th>3</th>\n",
       "      <td>0.300979</td>\n",
       "      <td>0.420463</td>\n",
       "      <td>0.629049</td>\n",
       "      <td>0.764024</td>\n",
       "      <td>0.286791</td>\n",
       "      <td>0.548616</td>\n",
       "      <td>0.883772</td>\n",
       "      <td>0.414262</td>\n",
       "      <td>0.961818</td>\n",
       "      <td>0.379222</td>\n",
       "    </tr>\n",
       "    <tr>\n",
       "      <th>4</th>\n",
       "      <td>0.361704</td>\n",
       "      <td>0.464626</td>\n",
       "      <td>0.682901</td>\n",
       "      <td>0.775033</td>\n",
       "      <td>0.345385</td>\n",
       "      <td>0.601418</td>\n",
       "      <td>0.867808</td>\n",
       "      <td>0.452954</td>\n",
       "      <td>0.966836</td>\n",
       "      <td>0.386007</td>\n",
       "    </tr>\n",
       "    <tr>\n",
       "      <th>...</th>\n",
       "      <td>...</td>\n",
       "      <td>...</td>\n",
       "      <td>...</td>\n",
       "      <td>...</td>\n",
       "      <td>...</td>\n",
       "      <td>...</td>\n",
       "      <td>...</td>\n",
       "      <td>...</td>\n",
       "      <td>...</td>\n",
       "      <td>...</td>\n",
       "    </tr>\n",
       "    <tr>\n",
       "      <th>18180</th>\n",
       "      <td>0.573262</td>\n",
       "      <td>0.811219</td>\n",
       "      <td>0.618156</td>\n",
       "      <td>0.971489</td>\n",
       "      <td>0.545785</td>\n",
       "      <td>0.757140</td>\n",
       "      <td>0.562384</td>\n",
       "      <td>0.654774</td>\n",
       "      <td>0.733291</td>\n",
       "      <td>0.744543</td>\n",
       "    </tr>\n",
       "    <tr>\n",
       "      <th>18181</th>\n",
       "      <td>0.742899</td>\n",
       "      <td>0.925674</td>\n",
       "      <td>0.704314</td>\n",
       "      <td>0.971683</td>\n",
       "      <td>0.709121</td>\n",
       "      <td>0.861916</td>\n",
       "      <td>0.730296</td>\n",
       "      <td>0.758107</td>\n",
       "      <td>0.708884</td>\n",
       "      <td>0.745661</td>\n",
       "    </tr>\n",
       "    <tr>\n",
       "      <th>18182</th>\n",
       "      <td>0.623408</td>\n",
       "      <td>0.844800</td>\n",
       "      <td>0.640916</td>\n",
       "      <td>0.972058</td>\n",
       "      <td>0.593296</td>\n",
       "      <td>0.789562</td>\n",
       "      <td>0.633098</td>\n",
       "      <td>0.673049</td>\n",
       "      <td>0.754720</td>\n",
       "      <td>0.747830</td>\n",
       "    </tr>\n",
       "    <tr>\n",
       "      <th>18183</th>\n",
       "      <td>0.583741</td>\n",
       "      <td>0.826356</td>\n",
       "      <td>0.623551</td>\n",
       "      <td>0.972748</td>\n",
       "      <td>0.562227</td>\n",
       "      <td>0.764030</td>\n",
       "      <td>0.555396</td>\n",
       "      <td>0.675248</td>\n",
       "      <td>0.702103</td>\n",
       "      <td>0.751874</td>\n",
       "    </tr>\n",
       "    <tr>\n",
       "      <th>18184</th>\n",
       "      <td>0.600784</td>\n",
       "      <td>0.835548</td>\n",
       "      <td>0.624956</td>\n",
       "      <td>0.973858</td>\n",
       "      <td>0.570767</td>\n",
       "      <td>0.775102</td>\n",
       "      <td>0.552662</td>\n",
       "      <td>0.665891</td>\n",
       "      <td>0.743051</td>\n",
       "      <td>0.758528</td>\n",
       "    </tr>\n",
       "  </tbody>\n",
       "</table>\n",
       "<p>18185 rows × 10 columns</p>\n",
       "</div>"
      ]
     },
     "execution_count": 11,
     "metadata": {},
     "output_type": "execute_result"
    }
   ],
   "execution_count": 11
  },
  {
   "cell_type": "code",
   "id": "65f28df4-6cab-4c9d-b7b1-ca8917067961",
   "metadata": {
    "ExecuteTime": {
     "end_time": "2025-04-25T04:00:52.185815Z",
     "start_time": "2025-04-25T04:00:52.181313Z"
    }
   },
   "source": [
    "df.iloc[:,-1]"
   ],
   "outputs": [
    {
     "data": {
      "text/plain": [
       "0        1.0\n",
       "1        1.0\n",
       "2        1.0\n",
       "3        1.0\n",
       "4        1.0\n",
       "        ... \n",
       "18180    0.0\n",
       "18181    0.0\n",
       "18182    0.0\n",
       "18183    0.0\n",
       "18184    0.0\n",
       "Name: Class, Length: 18185, dtype: float64"
      ]
     },
     "execution_count": 12,
     "metadata": {},
     "output_type": "execute_result"
    }
   ],
   "execution_count": 12
  },
  {
   "cell_type": "markdown",
   "id": "b3d6a48a-2b78-415a-b4e0-1cdf225c619b",
   "metadata": {},
   "source": [
    "### 70% Training:\n",
    "- **X_train**: Features for training.\n",
    "- **y_train**: Labels for training.\n",
    "\n",
    "### 15% Validation (half of 30% test data):\n",
    "- **X_val**: Features for validation.\n",
    "- **y_val**: Labels for validation.\n",
    "\n",
    "### 15% Testing (half of 30% test data):\n",
    "- **X_test**: Features for testing.\n",
    "- **y_test**: Labels for testing."
   ]
  },
  {
   "cell_type": "code",
   "id": "0a303f30-c47e-4eec-8253-f456313cf0a1",
   "metadata": {
    "ExecuteTime": {
     "end_time": "2025-04-25T04:00:52.283458Z",
     "start_time": "2025-04-25T04:00:52.277035Z"
    }
   },
   "source": [
    "# test_size=0.3 means that the 70% of the data will become the training set\n",
    "# and the remaining 30% corresponds to the test set\n",
    "X_train, X_test, y_train, y_test = train_test_split(X, Y, test_size=0.3)\n",
    "\n",
    "\n",
    "\n",
    "# Now we will split in half the test set, and we'll have 50% of the data for the validation set and 50% for the test set\n",
    "\n",
    "X_test, X_val, y_test, y_val = train_test_split(X_test, y_test, test_size=0.5)"
   ],
   "outputs": [],
   "execution_count": 13
  },
  {
   "cell_type": "code",
   "id": "279f8904-451f-4dbf-a15f-5a2ecd6be3b2",
   "metadata": {
    "ExecuteTime": {
     "end_time": "2025-04-25T04:00:52.350562Z",
     "start_time": "2025-04-25T04:00:52.347606Z"
    }
   },
   "source": [
    "print(X_train.shape)\n",
    "print(X_test.shape)\n",
    "print(X_val.shape)"
   ],
   "outputs": [
    {
     "name": "stdout",
     "output_type": "stream",
     "text": [
      "(12729, 10)\n",
      "(2728, 10)\n",
      "(2728, 10)\n"
     ]
    }
   ],
   "execution_count": 14
  },
  {
   "cell_type": "code",
   "id": "46cdcd23-6539-459e-af53-ae68795231a6",
   "metadata": {
    "ExecuteTime": {
     "end_time": "2025-04-25T04:00:52.423520Z",
     "start_time": "2025-04-25T04:00:52.420752Z"
    }
   },
   "source": [
    "train = 18185*0.7\n",
    "print(train)\n",
    "test = 18185*0.3\n",
    "print(test)\n",
    "val = test*0.5\n",
    "print(val)\n"
   ],
   "outputs": [
    {
     "name": "stdout",
     "output_type": "stream",
     "text": [
      "12729.5\n",
      "5455.5\n",
      "2727.75\n"
     ]
    }
   ],
   "execution_count": 15
  },
  {
   "cell_type": "code",
   "id": "4a73a58d-25d6-4085-8894-6b37bf1c14df",
   "metadata": {
    "ExecuteTime": {
     "end_time": "2025-04-25T04:00:52.483031Z",
     "start_time": "2025-04-25T04:00:52.480265Z"
    }
   },
   "source": [
    "12729+2728+2728"
   ],
   "outputs": [
    {
     "data": {
      "text/plain": [
       "18185"
      ]
     },
     "execution_count": 16,
     "metadata": {},
     "output_type": "execute_result"
    }
   ],
   "execution_count": 16
  },
  {
   "cell_type": "code",
   "id": "9d2d5a59-f30b-4d39-8990-ca778ccd0e79",
   "metadata": {
    "ExecuteTime": {
     "end_time": "2025-04-25T04:00:52.542105Z",
     "start_time": "2025-04-25T04:00:52.539624Z"
    }
   },
   "source": [
    "# Dataset object\n",
    "class dataset(Dataset):\n",
    "  def __init__(self,X,Y):\n",
    "    self.X = torch.tensor(X,dtype=torch.float32).to(device)\n",
    "    self.Y = torch.tensor(Y,dtype=torch.float32).to(device)\n",
    "\n",
    "  def __len__(self):\n",
    "    return len(self.X)\n",
    "\n",
    "  def __getitem__(self,index):\n",
    "    return self.X[index], self.Y[index]\n",
    "\n",
    "\n"
   ],
   "outputs": [],
   "execution_count": 17
  },
  {
   "cell_type": "code",
   "id": "953b170c-8ddb-4391-bfa4-4770379ad827",
   "metadata": {
    "ExecuteTime": {
     "end_time": "2025-04-25T04:00:52.726299Z",
     "start_time": "2025-04-25T04:00:52.595834Z"
    }
   },
   "source": [
    "traning_data = dataset(X_train, y_train)\n",
    "validation_dat = dataset(X_val, y_val)\n",
    "test_data = dataset(X_test, y_test)\n",
    "\n",
    "traning_data"
   ],
   "outputs": [
    {
     "data": {
      "text/plain": [
       "<__main__.dataset at 0x73c0f1dbad20>"
      ]
     },
     "execution_count": 18,
     "metadata": {},
     "output_type": "execute_result"
    }
   ],
   "execution_count": 18
  },
  {
   "cell_type": "code",
   "id": "e8fdb057-bb5c-49b3-96e2-102e774d1d8b",
   "metadata": {
    "ExecuteTime": {
     "end_time": "2025-04-25T04:00:52.751565Z",
     "start_time": "2025-04-25T04:00:52.748639Z"
    }
   },
   "source": [
    "# DataLader is an object you use to specify the batch size (32 rows) during each epoch\n",
    "# it receives a Dataset object as parameter\n",
    "train_dataloader = DataLoader(traning_data, batch_size=32, shuffle=True)\n",
    "validation_dataloader = DataLoader(validation_dat, batch_size=32, shuffle=True)\n",
    "testing_dataloader = DataLoader(test_data, batch_size=32, shuffle=True)"
   ],
   "outputs": [],
   "execution_count": 19
  },
  {
   "cell_type": "code",
   "id": "966c8659-0984-42e7-a1bd-16494c4a14fd",
   "metadata": {
    "ExecuteTime": {
     "end_time": "2025-04-25T04:00:52.996190Z",
     "start_time": "2025-04-25T04:00:52.808237Z"
    }
   },
   "source": [
    "x_item, y_item = test_data[0]  # Fetch the data at index 0\n",
    "\n",
    "# Print the result\n",
    "print(f\"X: {x_item}, Y: {y_item}\")"
   ],
   "outputs": [
    {
     "name": "stdout",
     "output_type": "stream",
     "text": [
      "X: tensor([0.8910, 0.8513, 0.9131, 0.9055, 0.8433, 0.9439, 0.9004, 0.7497, 0.8693,\n",
      "        0.5289], device='cuda:0'), Y: 0.0\n"
     ]
    }
   ],
   "execution_count": 20
  },
  {
   "cell_type": "code",
   "id": "d3ddd8b0-ffb9-4946-927e-4414299094c9",
   "metadata": {
    "ExecuteTime": {
     "end_time": "2025-04-25T04:00:53.068742Z",
     "start_time": "2025-04-25T04:00:53.021310Z"
    }
   },
   "source": [
    "# Data loader will give you 32 rows every time you iterate over it\n",
    "# You can see that by counting the 32 data tensors and class tensors it retrieves in the first iteration\n",
    "\n",
    "for x,y in train_dataloader:\n",
    "  print(x)\n",
    "  print(\"=======\")\n",
    "  print(y)\n",
    "  break"
   ],
   "outputs": [
    {
     "name": "stdout",
     "output_type": "stream",
     "text": [
      "tensor([[0.5107, 0.8215, 0.5433, 0.9874, 0.4906, 0.7146, 0.4880, 0.6469, 0.6692,\n",
      "         0.8578],\n",
      "        [0.6316, 0.8892, 0.6242, 0.9813, 0.6129, 0.7948, 0.6257, 0.7320, 0.6464,\n",
      "         0.8082],\n",
      "        [0.5625, 0.7984, 0.6123, 0.9707, 0.5349, 0.7500, 0.6809, 0.6458, 0.7396,\n",
      "         0.7398],\n",
      "        [0.8989, 0.8682, 0.9060, 0.9129, 0.8637, 0.9481, 0.7990, 0.7632, 0.8463,\n",
      "         0.5436],\n",
      "        [0.6183, 0.7067, 0.7615, 0.9043, 0.5892, 0.7863, 0.6975, 0.6184, 0.8866,\n",
      "         0.5265],\n",
      "        [0.8844, 0.8544, 0.9058, 0.9087, 0.8462, 0.9404, 0.7529, 0.7492, 0.8642,\n",
      "         0.5352],\n",
      "        [0.9107, 0.8686, 0.9109, 0.9116, 0.8652, 0.9543, 0.6677, 0.7541, 0.8782,\n",
      "         0.5410],\n",
      "        [0.6239, 0.8620, 0.6345, 0.9758, 0.5999, 0.7899, 0.8857, 0.6955, 0.7074,\n",
      "         0.7708],\n",
      "        [0.6117, 0.8749, 0.6162, 0.9809, 0.5855, 0.7821, 0.6140, 0.6927, 0.6991,\n",
      "         0.8055],\n",
      "        [0.8991, 0.8964, 0.8747, 0.9290, 0.8616, 0.9482, 0.7392, 0.7767, 0.8174,\n",
      "         0.5814],\n",
      "        [0.7966, 0.8195, 0.8451, 0.9159, 0.7594, 0.8925, 0.6997, 0.7069, 0.8741,\n",
      "         0.5501],\n",
      "        [0.7583, 0.8004, 0.8223, 0.9169, 0.7154, 0.8708, 0.6979, 0.6851, 0.8859,\n",
      "         0.5522],\n",
      "        [0.4137, 0.6941, 0.5306, 0.9711, 0.4028, 0.6432, 0.8092, 0.5639, 0.7136,\n",
      "         0.7422],\n",
      "        [0.8908, 0.8883, 0.8736, 0.9273, 0.8530, 0.9438, 0.8905, 0.7572, 0.8521,\n",
      "         0.5769],\n",
      "        [0.5961, 0.8364, 0.6236, 0.9743, 0.5650, 0.7721, 0.5430, 0.6712, 0.7256,\n",
      "         0.7610],\n",
      "        [0.6267, 0.8173, 0.6750, 0.9601, 0.5990, 0.7917, 0.8322, 0.6723, 0.7604,\n",
      "         0.6870],\n",
      "        [0.8416, 0.8702, 0.8400, 0.9314, 0.8015, 0.9174, 0.8231, 0.7413, 0.8399,\n",
      "         0.5877],\n",
      "        [0.5548, 0.8241, 0.5871, 0.9796, 0.5290, 0.7449, 0.6297, 0.6621, 0.6942,\n",
      "         0.7963],\n",
      "        [0.8503, 0.8566, 0.8635, 0.9215, 0.8080, 0.9221, 0.9026, 0.7415, 0.8482,\n",
      "         0.5629],\n",
      "        [0.5540, 0.7968, 0.6149, 0.9698, 0.5331, 0.7443, 0.6900, 0.6450, 0.7302,\n",
      "         0.7352],\n",
      "        [0.8391, 0.8159, 0.9008, 0.8973, 0.8072, 0.9160, 0.6790, 0.7342, 0.8537,\n",
      "         0.5139],\n",
      "        [0.4528, 0.5832, 0.6819, 0.8792, 0.4288, 0.6729, 0.8901, 0.5204, 0.9168,\n",
      "         0.4852],\n",
      "        [0.7154, 0.8766, 0.7125, 0.9625, 0.6776, 0.8458, 0.5868, 0.7130, 0.7717,\n",
      "         0.6979],\n",
      "        [0.5960, 0.8120, 0.6417, 0.9666, 0.5664, 0.7720, 0.8810, 0.6609, 0.7483,\n",
      "         0.7180],\n",
      "        [0.5923, 0.8297, 0.6291, 0.9721, 0.5663, 0.7696, 0.5395, 0.6771, 0.7084,\n",
      "         0.7482],\n",
      "        [0.6004, 0.8518, 0.6228, 0.9766, 0.5768, 0.7748, 0.6274, 0.6808, 0.7104,\n",
      "         0.7759],\n",
      "        [0.6739, 0.9301, 0.6359, 0.9841, 0.6447, 0.8209, 0.6645, 0.7464, 0.6635,\n",
      "         0.8299],\n",
      "        [0.8934, 0.8682, 0.8967, 0.9156, 0.8542, 0.9452, 0.6929, 0.7594, 0.8495,\n",
      "         0.5493],\n",
      "        [0.6852, 0.8696, 0.6886, 0.9663, 0.6506, 0.8278, 0.5450, 0.7092, 0.7470,\n",
      "         0.7165],\n",
      "        [0.5962, 0.8438, 0.6251, 0.9751, 0.5718, 0.7721, 0.7758, 0.6786, 0.7101,\n",
      "         0.7659],\n",
      "        [0.8644, 0.8763, 0.8553, 0.9290, 0.8216, 0.9298, 0.6968, 0.7445, 0.8552,\n",
      "         0.5812],\n",
      "        [0.5160, 0.8038, 0.5583, 0.9824, 0.4895, 0.7183, 0.8780, 0.6274, 0.7189,\n",
      "         0.8168]], device='cuda:0')\n",
      "=======\n",
      "tensor([1., 1., 1., 0., 0., 0., 0., 1., 1., 0., 0., 0., 1., 0., 1., 1., 0., 1.,\n",
      "        0., 1., 0., 1., 1., 1., 1., 1., 1., 0., 1., 1., 0., 1.],\n",
      "       device='cuda:0')\n"
     ]
    }
   ],
   "execution_count": 21
  },
  {
   "cell_type": "code",
   "id": "679a3b74-1a7f-443a-b267-6497f23fcc6c",
   "metadata": {
    "ExecuteTime": {
     "end_time": "2025-04-25T04:00:53.108584Z",
     "start_time": "2025-04-25T04:00:53.103209Z"
    }
   },
   "source": [
    "HIDDEN_NEURONS=10\n",
    "class MyModel(nn.Module):\n",
    "  def __init__(self):\n",
    "    super(MyModel, self).__init__()\n",
    "\n",
    "    self.input_layer= nn.Linear(X.shape[1],HIDDEN_NEURONS)\n",
    "    self.linear = nn.Linear(HIDDEN_NEURONS,1)\n",
    "    self.sigmoid = nn.Sigmoid()\n",
    "\n",
    "\n",
    "  # HOw data flows within the model\n",
    "  def forward(self,x):\n",
    "    x = self.input_layer(x)\n",
    "    x = self.linear(x)\n",
    "    x = self.sigmoid(x)\n",
    "    return x\n",
    "\n",
    "model = MyModel().to(device)\n"
   ],
   "outputs": [],
   "execution_count": 22
  },
  {
   "cell_type": "code",
   "id": "26479783-3ee3-45a5-8edd-cb457ef40118",
   "metadata": {
    "ExecuteTime": {
     "end_time": "2025-04-25T04:00:53.288621Z",
     "start_time": "2025-04-25T04:00:53.166843Z"
    }
   },
   "source": [
    "summary(model, (X.shape[1],))"
   ],
   "outputs": [
    {
     "name": "stdout",
     "output_type": "stream",
     "text": [
      "----------------------------------------------------------------\n",
      "        Layer (type)               Output Shape         Param #\n",
      "================================================================\n",
      "            Linear-1                   [-1, 10]             110\n",
      "            Linear-2                    [-1, 1]              11\n",
      "           Sigmoid-3                    [-1, 1]               0\n",
      "================================================================\n",
      "Total params: 121\n",
      "Trainable params: 121\n",
      "Non-trainable params: 0\n",
      "----------------------------------------------------------------\n",
      "Input size (MB): 0.00\n",
      "Forward/backward pass size (MB): 0.00\n",
      "Params size (MB): 0.00\n",
      "Estimated Total Size (MB): 0.00\n",
      "----------------------------------------------------------------\n"
     ]
    }
   ],
   "execution_count": 23
  },
  {
   "cell_type": "code",
   "id": "fb7878c3-ff23-4fae-9e63-172bf514e65f",
   "metadata": {
    "ExecuteTime": {
     "end_time": "2025-04-25T04:00:54.932212Z",
     "start_time": "2025-04-25T04:00:53.315562Z"
    }
   },
   "source": [
    "# Binary Cross Entropy Loss (used for binary classification problems)\n",
    "criterion = nn.BCELoss()\n",
    "\n",
    "# Adam optimizer with a learning rate of 1e-3\n",
    "optimizer = Adam(model.parameters(), lr=1e-3)"
   ],
   "outputs": [],
   "execution_count": 24
  },
  {
   "cell_type": "code",
   "id": "63be436c-0219-40cc-9184-eaface53768d",
   "metadata": {
    "ExecuteTime": {
     "end_time": "2025-04-25T04:00:59.366599Z",
     "start_time": "2025-04-25T04:00:54.963782Z"
    }
   },
   "source": [
    "\n",
    "\n",
    "# Binary Cross Entropy Loss (used for binary classification problems)\n",
    "criterion = nn.BCELoss()\n",
    "\n",
    "# Adam optimizer with a learning rate of 1e-3\n",
    "optimizer = Adam(model.parameters(), lr=1e-3)\n",
    "\n",
    "# Lists to store loss and accuracy for training and validation over epochs\n",
    "total_loss_train_plot = []\n",
    "total_loss_val_plot = []\n",
    "total_acc_train_plot = []\n",
    "total_acc_val_plot = []\n",
    "\n",
    "# Number of training epochs\n",
    "EPOCHS = 10\n",
    "\n",
    "# Training loop\n",
    "for epoch in range(EPOCHS):\n",
    "    total_acc_train = 0  # Variable to accumulate training accuracy\n",
    "    total_loss_train = 0  # Variable to accumulate training loss\n",
    "    total_acc_val = 0  # Variable to accumulate validation accuracy\n",
    "    total_loss_val = 0  # Variable to accumulate validation loss\n",
    "\n",
    "    # Loop through each batch in the training dataset\n",
    "    for data in train_dataloader:\n",
    "        inputs, labels = data  # Get input features and corresponding labels\n",
    "\n",
    "        prediction = model(inputs).squeeze(1)  # Forward pass through the model\n",
    "\n",
    "        batch_loss = criterion(prediction, labels)  # Compute loss\n",
    "\n",
    "        total_loss_train += batch_loss.item()  # Accumulate training loss\n",
    "\n",
    "        # Compute accuracy: round predictions to 0 or 1 and compare with labels\n",
    "        acc = ((prediction).round() == labels).sum().item()\n",
    "        total_acc_train += acc  # Accumulate correct predictions\n",
    "\n",
    "        batch_loss.backward()  # Compute gradients via backpropagation\n",
    "        optimizer.step()  # Update model weights\n",
    "        optimizer.zero_grad()  # Reset gradients for the next batch\n",
    "\n",
    "    # Disable gradient computation during validation to save memory\n",
    "    with torch.no_grad():\n",
    "        for data in validation_dataloader:\n",
    "            inputs, labels = data  # Get input features and labels\n",
    "\n",
    "            prediction = model(inputs).squeeze(1)  # Forward pass\n",
    "\n",
    "            batch_loss = criterion(prediction, labels)  # Compute loss\n",
    "            total_loss_val += batch_loss.item()  # Accumulate validation loss\n",
    "\n",
    "            # Compute accuracy for validation set\n",
    "            acc = ((prediction).round() == labels).sum().item()\n",
    "            total_acc_val += acc  # Accumulate correct predictions\n",
    "\n",
    "    total_loss_train_plot.append(round(total_loss_train / 1000,4))\n",
    "    total_loss_val_plot.append(round(total_loss_val / 1000,4))\n",
    "\n",
    "    total_acc_train_plot.append(round(total_acc_train / traning_data.__len__()*100,4))\n",
    "    total_acc_val_plot.append(round(total_acc_val / validation_dat.__len__()*100,4))\n",
    "\n",
    "    print(f\"\"\"Epoch {epoch + 1} Train Loss:{round(total_loss_train / 1000,4)} Train Accuracy: {round(total_acc_train / traning_data.__len__()*100,4)}\n",
    "              Validation Loss: {round(total_loss_val / 1000,4)} Validation Accuracy: {round(total_acc_val / validation_dat.__len__()*100,4)}\"\"\")\n",
    "    \n",
    "torch.save(model.state_dict(), 'rice_classification_model.pt')\n",
    "\n",
    "\n"
   ],
   "outputs": [
    {
     "name": "stdout",
     "output_type": "stream",
     "text": [
      "Epoch 1 Train Loss:0.2192 Train Accuracy: 90.0228\n",
      "              Validation Loss: 0.0336 Validation Accuracy: 97.2141\n",
      "Epoch 2 Train Loss:0.1054 Train Accuracy: 97.6667\n",
      "              Validation Loss: 0.0148 Validation Accuracy: 98.3138\n",
      "Epoch 3 Train Loss:0.0527 Train Accuracy: 98.2402\n",
      "              Validation Loss: 0.0087 Validation Accuracy: 98.3504\n",
      "Epoch 4 Train Loss:0.0351 Train Accuracy: 98.3502\n",
      "              Validation Loss: 0.0065 Validation Accuracy: 98.5704\n",
      "Epoch 5 Train Loss:0.0275 Train Accuracy: 98.4602\n",
      "              Validation Loss: 0.0054 Validation Accuracy: 98.4971\n",
      "Epoch 6 Train Loss:0.0236 Train Accuracy: 98.5388\n",
      "              Validation Loss: 0.0047 Validation Accuracy: 98.5337\n",
      "Epoch 7 Train Loss:0.0213 Train Accuracy: 98.5545\n",
      "              Validation Loss: 0.0043 Validation Accuracy: 98.717\n",
      "Epoch 8 Train Loss:0.0199 Train Accuracy: 98.5859\n",
      "              Validation Loss: 0.004 Validation Accuracy: 98.6804\n",
      "Epoch 9 Train Loss:0.0191 Train Accuracy: 98.5466\n",
      "              Validation Loss: 0.0039 Validation Accuracy: 98.717\n",
      "Epoch 10 Train Loss:0.0182 Train Accuracy: 98.6723\n",
      "              Validation Loss: 0.0038 Validation Accuracy: 98.717\n"
     ]
    }
   ],
   "execution_count": 25
  },
  {
   "cell_type": "code",
   "id": "fc7466ab-a0e0-4158-9bb7-751c2091e26b",
   "metadata": {
    "ExecuteTime": {
     "end_time": "2025-04-25T04:00:59.433553Z",
     "start_time": "2025-04-25T04:00:59.399737Z"
    }
   },
   "source": [
    "with torch.no_grad():\n",
    "  total_loss_test=0\n",
    "  total_acc_test=0\n",
    "\n",
    "  for data in testing_dataloader:\n",
    "    inputs, labels = data\n",
    "    prediction = model(inputs).squeeze(1)\n",
    "    batch_loss_test = criterion(prediction, labels)\n",
    "    total_loss_test += batch_loss.item()\n",
    "\n",
    "    acc_test = ((prediction).round() == labels).sum().item()\n",
    "    total_acc_test += acc_test\n",
    "\n",
    "print(f\"\"\"Test Loss: {round(total_loss_test / 1000,4)} Test Accuracy: {round(total_acc_test / test_data.__len__()*100,4)}\"\"\")\n"
   ],
   "outputs": [
    {
     "name": "stdout",
     "output_type": "stream",
     "text": [
      "Test Loss: 0.0032 Test Accuracy: 98.7903\n"
     ]
    }
   ],
   "execution_count": 26
  },
  {
   "cell_type": "code",
   "id": "751b5ab6-b027-431e-a549-68da817fe967",
   "metadata": {
    "ExecuteTime": {
     "end_time": "2025-04-25T04:00:59.679340Z",
     "start_time": "2025-04-25T04:00:59.470166Z"
    }
   },
   "source": [
    "fig, axs = plt.subplots(nrows=1, ncols=2, figsize=(15,5))\n",
    "\n",
    "# Plot for Loss\n",
    "axs[0].plot(total_loss_train_plot, label=\"Training Loss\")\n",
    "axs[0].plot(total_loss_val_plot, label=\"Validation Loss\")\n",
    "axs[0].set_title(\"Training and validation loss over epochs\")\n",
    "axs[0].set_xlabel(\"Epochs\")\n",
    "axs[0].set_ylabel(\"Loss\")\n",
    "axs[0].set_ylim([0, 2])\n",
    "axs[0].legend()  # Corrected: Use legend for this subplot\n",
    "\n",
    "# Plot for Accuracy\n",
    "axs[1].plot(total_acc_train_plot, label=\"Training Accuracy\")\n",
    "axs[1].plot(total_acc_val_plot, label=\"Validation Accuracy\")\n",
    "axs[1].set_title(\"Training and validation accuracy over epochs\")\n",
    "axs[1].set_xlabel(\"Epochs\")\n",
    "axs[1].set_ylabel(\"Accuracy\")\n",
    "axs[1].set_ylim([0, 100])\n",
    "axs[1].legend()  # Corrected: Use legend for this subplot\n",
    "\n",
    "plt.show()  # Ensure the plots are displayed\n"
   ],
   "outputs": [
    {
     "data": {
      "text/plain": [
       "<Figure size 1500x500 with 2 Axes>"
      ],
      "image/png": "[encoded data removed]"
     },
     "metadata": {},
     "output_type": "display_data"
    }
   ],
   "execution_count": 27
  },
  {
   "cell_type": "markdown",
   "id": "069568d3-1ac0-4c6c-89e1-df8b904c1dd1",
   "metadata": {},
   "source": [
    "## New data point"
   ]
  },
  {
   "cell_type": "code",
   "id": "731114b3-6dee-4b56-8b45-4f2870cd3013",
   "metadata": {
    "ExecuteTime": {
     "end_time": "2025-04-25T04:00:59.718234Z",
     "start_time": "2025-04-25T04:00:59.712642Z"
    }
   },
   "source": [
    "# Creating variables for max values of each column\n",
    "area_max = df_o[\"Area\"].abs().max()\n",
    "major_axis_max = df_o[\"MajorAxisLength\"].abs().max()\n",
    "minor_axis_max = df_o[\"MinorAxisLength\"].abs().max()\n",
    "eccentricity_max = df_o[\"Eccentricity\"].abs().max()\n",
    "convex_area_max = df_o[\"ConvexArea\"].abs().max()\n",
    "equiv_diameter_max = df_o[\"EquivDiameter\"].abs().max()\n",
    "extent_max = df_o[\"Extent\"].abs().max()\n",
    "perimeter_max = df_o[\"Perimeter\"].abs().max()\n",
    "roundness_max = df_o[\"Roundness\"].abs().max()\n",
    "aspect_ratio_max = df_o[\"AspectRation\"].abs().max()\n",
    "\n",
    "# Creating normalized variables for new data\n",
    "area_norm = 2353 / area_max\n",
    "major_axis_norm = 81 / major_axis_max\n",
    "minor_axis_norm = 50 / minor_axis_max\n",
    "eccentricity_norm = 0.7 / eccentricity_max\n",
    "convex_area_norm = 2500 / convex_area_max\n",
    "equiv_diameter_norm = 50 / equiv_diameter_max\n",
    "extent_norm = 0.7 / extent_max\n",
    "perimeter_norm = 200 / perimeter_max\n",
    "roundness_norm = 0.85 / roundness_max\n",
    "aspect_ratio_norm = 2.4 / aspect_ratio_max\n",
    "\n",
    "\n",
    "\n",
    "# Creating a tensor from the normalized values\n",
    "new_data = torch.tensor([\n",
    "    area_norm,\n",
    "    major_axis_norm,\n",
    "    minor_axis_norm,\n",
    "    eccentricity_norm,\n",
    "    convex_area_norm,\n",
    "    equiv_diameter_norm,\n",
    "    extent_norm,\n",
    "    perimeter_norm,\n",
    "    roundness_norm,\n",
    "    aspect_ratio_norm\n",
    "], dtype=torch.float32).to(device)  # Ensure correct data type\n",
    "\n",
    "\n",
    "\n",
    "# Make a prediction using the trained model\n",
    "prediction = model(new_data)\n",
    "\n",
    "# Print the prediction result\n",
    "print(\"Model Prediction:\", round(prediction.item()))\n"
   ],
   "outputs": [
    {
     "name": "stdout",
     "output_type": "stream",
     "text": [
      "Model Prediction: 1\n"
     ]
    }
   ],
   "execution_count": 28
  }
 ],
 "metadata": {
  "kernelspec": {
   "display_name": "Python 3 (ipykernel)",
   "language": "python",
   "name": "python3"
  },
  "language_info": {
   "codemirror_mode": {
    "name": "ipython",
    "version": 3
   },
   "file_extension": ".py",
   "mimetype": "text/x-python",
   "name": "python",
   "nbconvert_exporter": "python",
   "pygments_lexer": "ipython3",
   "version": "3.12.7"
  }
 },
 "nbformat": 4,
 "nbformat_minor": 5
}
