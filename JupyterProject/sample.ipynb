{
 "cells": [
  {
   "metadata": {},
   "cell_type": "markdown",
   "source": [
    "# This is a sample Jupyter Notebook\n",
    "\n",
    "Below is an example of a code cell. \n",
    "Put your cursor into the cell and press Shift+Enter to execute it and select the next one, or click 'Run Cell' button.\n",
    "\n",
    "Press Double Shift to search everywhere for classes, files, tool windows, actions, and settings.\n",
    "\n",
    "To learn more about Jupyter Notebooks in PyCharm, see [help](https://www.jetbrains.com/help/pycharm/ipython-notebook-support.html).\n",
    "For an overview of PyCharm, go to Help -> Learn IDE features or refer to [our documentation](https://www.jetbrains.com/help/pycharm/getting-started.html)."
   ],
   "id": "8a77807f92f26ee"
  },
  {
   "metadata": {
    "ExecuteTime": {
     "end_time": "2025-02-08T20:03:22.941152Z",
     "start_time": "2025-02-08T20:03:22.938064Z"
    }
   },
   "cell_type": "code",
   "source": "print(\"Hello World!\")\n",
   "id": "fbc121e30a2defb3",
   "outputs": [
    {
     "name": "stdout",
     "output_type": "stream",
     "text": [
      "Hello World!\n"
     ]
    }
   ],
   "execution_count": 1
  },
  {
   "metadata": {
    "ExecuteTime": {
     "end_time": "2025-02-08T20:09:22.713186Z",
     "start_time": "2025-02-08T20:09:22.710709Z"
    }
   },
   "cell_type": "code",
   "source": [
    "def bm(peso, altura, edad):\n",
    "    bm = 655+(9.56*peso)+(1.85*altura)-(4.68*edad)\n",
    "    return bm"
   ],
   "id": "4c14cae061485788",
   "outputs": [],
   "execution_count": 17
  },
  {
   "metadata": {
    "ExecuteTime": {
     "end_time": "2025-02-08T20:09:24.310939Z",
     "start_time": "2025-02-08T20:09:24.307775Z"
    }
   },
   "cell_type": "code",
   "source": [
    "bm = bm(peso=58.7, altura=158, edad=29)\n",
    "print(bm)"
   ],
   "id": "6140f707e644908d",
   "outputs": [
    {
     "name": "stdout",
     "output_type": "stream",
     "text": [
      "1372.752\n"
     ]
    }
   ],
   "execution_count": 18
  },
  {
   "metadata": {
    "ExecuteTime": {
     "end_time": "2025-02-08T20:10:41.628342Z",
     "start_time": "2025-02-08T20:10:41.623877Z"
    }
   },
   "cell_type": "code",
   "source": "655+(9.56*58.7)+(1.85*158*29)",
   "id": "dccfb3a3314576ac",
   "outputs": [
    {
     "data": {
      "text/plain": [
       "1372.462"
      ]
     },
     "execution_count": 19,
     "metadata": {},
     "output_type": "execute_result"
    }
   ],
   "execution_count": 19
  }
 ],
 "metadata": {
  "kernelspec": {
   "display_name": "Python 3",
   "language": "python",
   "name": "python3"
  },
  "language_info": {
   "codemirror_mode": {
    "name": "ipython",
    "version": 2
   },
   "file_extension": ".py",
   "mimetype": "text/x-python",
   "name": "python",
   "nbconvert_exporter": "python",
   "pygments_lexer": "ipython2",
   "version": "2.7.6"
  }
 },
 "nbformat": 4,
 "nbformat_minor": 5
}
