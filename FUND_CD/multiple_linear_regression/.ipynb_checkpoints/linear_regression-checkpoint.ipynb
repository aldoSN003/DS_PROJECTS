{
 "cells": [
  {
   "cell_type": "markdown",
   "id": "566cc446-485f-475a-aa4a-bc11fd2dabf1",
   "metadata": {},
   "source": [
    "# Hello"
   ]
  },
  {
   "cell_type": "code",
   "execution_count": 3,
   "id": "initial_id",
   "metadata": {
    "ExecuteTime": {
     "end_time": "2025-03-26T13:44:59.427514Z",
     "start_time": "2025-03-26T13:44:59.424865Z"
    }
   },
   "outputs": [],
   "source": [
    "import numpy as np\n",
    "import pandas as pd\n",
    "\n",
    "\n",
    "No = np.array([1, 2, 3, 4, 5, 6, 7, 8, 9, 10, \n",
    "      11, 12, 13, 14, 15, 16, 17, 18, 19, 20])\n",
    "\n",
    "Y = np.array([0.9, 0.91, 0.96, 0.89, 1.0, 1.1, 1.15, 1.03, 0.77, 1.07, \n",
    "     1.07, 0.94, 1.1, 1.1, 1.1, 0.91, 0.87, 0.78, 0.82, 0.95])\n",
    "\n",
    "X1 = np.array([72.4, 41.6, 34.3, 35.1, 10.7, 12.9, 8.3, 20.1, 72.2, 24.0, \n",
    "      23.2, 47.4, 31.5, 10.6, 11.2, 73.3, 75.4, 96.6, 107.4, 54.9])\n",
    "\n",
    "X2 = np.array([76.3, 70.3, 77.1, 68.0, 79.0, 67.4, 66.8, 76.9, 77.7, 67.7, \n",
    "      76.8, 86.6, 76.9, 86.3, 86.0, 76.3, 77.9, 78.7, 86.9, 70.9])\n",
    "\n",
    "X3 = np.array([29.18, 29.35, 29.24, 29.27, 29.78, 29.39, 29.69, 29.48, 29.07, 29.60, \n",
    "      29.38, 29.35, 29.63, 29.56, 29.48, 29.40, 29.28, 29.29, 29.03, 29.37])\n",
    "\n",
    "\n"
   ]
  },
  {
   "cell_type": "code",
   "execution_count": 4,
   "id": "7596ff54-af62-4a97-86cb-e200d70d8f5c",
   "metadata": {},
   "outputs": [
    {
     "data": {
      "text/plain": [
       "20"
      ]
     },
     "execution_count": 4,
     "metadata": {},
     "output_type": "execute_result"
    }
   ],
   "source": [
    "len(X2)"
   ]
  }
 ],
 "metadata": {
  "kernelspec": {
   "display_name": "Python 3 (ipykernel)",
   "language": "python",
   "name": "python3"
  },
  "language_info": {
   "codemirror_mode": {
    "name": "ipython",
    "version": 3
   },
   "file_extension": ".py",
   "mimetype": "text/x-python",
   "name": "python",
   "nbconvert_exporter": "python",
   "pygments_lexer": "ipython3",
   "version": "3.12.7"
  }
 },
 "nbformat": 4,
 "nbformat_minor": 5
}
