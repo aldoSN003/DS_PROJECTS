{
 "cells": [
  {
   "cell_type": "code",
   "id": "initial_id",
   "metadata": {
    "collapsed": true,
    "ExecuteTime": {
     "end_time": "2025-01-13T19:24:55.956815Z",
     "start_time": "2025-01-13T19:24:55.603075Z"
    }
   },
   "source": [
    "import itertools\n",
    "import pandas as pd\n",
    "\n",
    "# The new library!\n",
    "from thefuzz import fuzz, process"
   ],
   "outputs": [],
   "execution_count": 1
  },
  {
   "metadata": {
    "ExecuteTime": {
     "end_time": "2025-01-13T20:23:23.194157Z",
     "start_time": "2025-01-13T20:23:23.190549Z"
    }
   },
   "cell_type": "code",
   "source": [
    "df1 = pd.read_csv(\"companies_1.csv\")\n",
    "df2 = pd.read_csv(\"companies_2.csv\")"
   ],
   "id": "a903b96232928103",
   "outputs": [],
   "execution_count": 21
  },
  {
   "metadata": {
    "ExecuteTime": {
     "end_time": "2025-01-13T20:51:36.659479Z",
     "start_time": "2025-01-13T20:51:36.656962Z"
    }
   },
   "cell_type": "code",
   "source": "fuzz.partial_ratio(\"Santa Barbara County Employees Retirement System\", \"WRS\")",
   "id": "84bb6b3d5e53f58c",
   "outputs": [
    {
     "data": {
      "text/plain": [
       "50"
      ]
     },
     "execution_count": 53,
     "metadata": {},
     "output_type": "execute_result"
    }
   ],
   "execution_count": 53
  },
  {
   "metadata": {},
   "cell_type": "markdown",
   "source": [
    "## Data processing\n",
    "\n",
    "#### 1. Create the df dataframe containing the product of the two CSVs"
   ],
   "id": "4887be7af9676ab0"
  },
  {
   "metadata": {
    "ExecuteTime": {
     "end_time": "2025-01-13T20:37:49.067822Z",
     "start_time": "2025-01-13T20:37:49.049486Z"
    }
   },
   "cell_type": "code",
   "source": [
    "cartesian_product = list(itertools.product(df1[\"CLIENT\"],df2[\"Firm Name\"]))\n",
    "df = pd.DataFrame(data=cartesian_product, columns=[\"csv1\", \"csv2\"])\n",
    "df\n",
    "\n"
   ],
   "id": "94e47de9c0dafb7f",
   "outputs": [
    {
     "data": {
      "text/plain": [
       "                      csv1                                               csv2\n",
       "0      Adobe Systems, Inc.  AAA Northern California, Nevada & Utah Auto Ex...\n",
       "1      Adobe Systems, Inc.                            ACCO Engineered Systems\n",
       "2      Adobe Systems, Inc.                       Adams County Retirement Plan\n",
       "3      Adobe Systems, Inc.                               Adidas America, Inc.\n",
       "4      Adobe Systems, Inc.                                Adobe Systems, Inc.\n",
       "...                    ...                                                ...\n",
       "97883                  WRS        Yakima Valley Memorial Hospital Association\n",
       "97884                  WRS                          Yokohama Tire Corporation\n",
       "97885                  WRS                       Yuma Regional Medical Center\n",
       "97886                  WRS                               Zions Bancorporation\n",
       "97887                  WRS                    Zoological Society of San Diego\n",
       "\n",
       "[97888 rows x 2 columns]"
      ],
      "text/html": [
       "<div>\n",
       "<style scoped>\n",
       "    .dataframe tbody tr th:only-of-type {\n",
       "        vertical-align: middle;\n",
       "    }\n",
       "\n",
       "    .dataframe tbody tr th {\n",
       "        vertical-align: top;\n",
       "    }\n",
       "\n",
       "    .dataframe thead th {\n",
       "        text-align: right;\n",
       "    }\n",
       "</style>\n",
       "<table border=\"1\" class=\"dataframe\">\n",
       "  <thead>\n",
       "    <tr style=\"text-align: right;\">\n",
       "      <th></th>\n",
       "      <th>csv1</th>\n",
       "      <th>csv2</th>\n",
       "    </tr>\n",
       "  </thead>\n",
       "  <tbody>\n",
       "    <tr>\n",
       "      <th>0</th>\n",
       "      <td>Adobe Systems, Inc.</td>\n",
       "      <td>AAA Northern California, Nevada &amp; Utah Auto Ex...</td>\n",
       "    </tr>\n",
       "    <tr>\n",
       "      <th>1</th>\n",
       "      <td>Adobe Systems, Inc.</td>\n",
       "      <td>ACCO Engineered Systems</td>\n",
       "    </tr>\n",
       "    <tr>\n",
       "      <th>2</th>\n",
       "      <td>Adobe Systems, Inc.</td>\n",
       "      <td>Adams County Retirement Plan</td>\n",
       "    </tr>\n",
       "    <tr>\n",
       "      <th>3</th>\n",
       "      <td>Adobe Systems, Inc.</td>\n",
       "      <td>Adidas America, Inc.</td>\n",
       "    </tr>\n",
       "    <tr>\n",
       "      <th>4</th>\n",
       "      <td>Adobe Systems, Inc.</td>\n",
       "      <td>Adobe Systems, Inc.</td>\n",
       "    </tr>\n",
       "    <tr>\n",
       "      <th>...</th>\n",
       "      <td>...</td>\n",
       "      <td>...</td>\n",
       "    </tr>\n",
       "    <tr>\n",
       "      <th>97883</th>\n",
       "      <td>WRS</td>\n",
       "      <td>Yakima Valley Memorial Hospital Association</td>\n",
       "    </tr>\n",
       "    <tr>\n",
       "      <th>97884</th>\n",
       "      <td>WRS</td>\n",
       "      <td>Yokohama Tire Corporation</td>\n",
       "    </tr>\n",
       "    <tr>\n",
       "      <th>97885</th>\n",
       "      <td>WRS</td>\n",
       "      <td>Yuma Regional Medical Center</td>\n",
       "    </tr>\n",
       "    <tr>\n",
       "      <th>97886</th>\n",
       "      <td>WRS</td>\n",
       "      <td>Zions Bancorporation</td>\n",
       "    </tr>\n",
       "    <tr>\n",
       "      <th>97887</th>\n",
       "      <td>WRS</td>\n",
       "      <td>Zoological Society of San Diego</td>\n",
       "    </tr>\n",
       "  </tbody>\n",
       "</table>\n",
       "<p>97888 rows × 2 columns</p>\n",
       "</div>"
      ]
     },
     "execution_count": 39,
     "metadata": {},
     "output_type": "execute_result"
    }
   ],
   "execution_count": 39
  },
  {
   "metadata": {},
   "cell_type": "markdown",
   "source": "####  2. Create a new column Ratio Score that contains the distance for all the rows in df",
   "id": "c7191e74ad894f28"
  },
  {
   "metadata": {
    "ExecuteTime": {
     "end_time": "2025-01-13T20:44:29.028647Z",
     "start_time": "2025-01-13T20:44:28.842148Z"
    }
   },
   "cell_type": "code",
   "source": [
    "score = [fuzz.partial_ratio(c1,c2) for c1, c2 in df.values]\n",
    "df[\"Ratio Score\"]= score\n",
    "df"
   ],
   "id": "5b10f1fafdba34e7",
   "outputs": [
    {
     "data": {
      "text/plain": [
       "                      csv1                                               csv2  \\\n",
       "0      Adobe Systems, Inc.  AAA Northern California, Nevada & Utah Auto Ex...   \n",
       "1      Adobe Systems, Inc.                            ACCO Engineered Systems   \n",
       "2      Adobe Systems, Inc.                       Adams County Retirement Plan   \n",
       "3      Adobe Systems, Inc.                               Adidas America, Inc.   \n",
       "4      Adobe Systems, Inc.                                Adobe Systems, Inc.   \n",
       "...                    ...                                                ...   \n",
       "97883                  WRS        Yakima Valley Memorial Hospital Association   \n",
       "97884                  WRS                          Yokohama Tire Corporation   \n",
       "97885                  WRS                       Yuma Regional Medical Center   \n",
       "97886                  WRS                               Zions Bancorporation   \n",
       "97887                  WRS                    Zoological Society of San Diego   \n",
       "\n",
       "       Ratio Score  \n",
       "0               32  \n",
       "1               64  \n",
       "2               41  \n",
       "3               50  \n",
       "4              100  \n",
       "...            ...  \n",
       "97883            0  \n",
       "97884            0  \n",
       "97885           33  \n",
       "97886            0  \n",
       "97887           33  \n",
       "\n",
       "[97888 rows x 3 columns]"
      ],
      "text/html": [
       "<div>\n",
       "<style scoped>\n",
       "    .dataframe tbody tr th:only-of-type {\n",
       "        vertical-align: middle;\n",
       "    }\n",
       "\n",
       "    .dataframe tbody tr th {\n",
       "        vertical-align: top;\n",
       "    }\n",
       "\n",
       "    .dataframe thead th {\n",
       "        text-align: right;\n",
       "    }\n",
       "</style>\n",
       "<table border=\"1\" class=\"dataframe\">\n",
       "  <thead>\n",
       "    <tr style=\"text-align: right;\">\n",
       "      <th></th>\n",
       "      <th>csv1</th>\n",
       "      <th>csv2</th>\n",
       "      <th>Ratio Score</th>\n",
       "    </tr>\n",
       "  </thead>\n",
       "  <tbody>\n",
       "    <tr>\n",
       "      <th>0</th>\n",
       "      <td>Adobe Systems, Inc.</td>\n",
       "      <td>AAA Northern California, Nevada &amp; Utah Auto Ex...</td>\n",
       "      <td>32</td>\n",
       "    </tr>\n",
       "    <tr>\n",
       "      <th>1</th>\n",
       "      <td>Adobe Systems, Inc.</td>\n",
       "      <td>ACCO Engineered Systems</td>\n",
       "      <td>64</td>\n",
       "    </tr>\n",
       "    <tr>\n",
       "      <th>2</th>\n",
       "      <td>Adobe Systems, Inc.</td>\n",
       "      <td>Adams County Retirement Plan</td>\n",
       "      <td>41</td>\n",
       "    </tr>\n",
       "    <tr>\n",
       "      <th>3</th>\n",
       "      <td>Adobe Systems, Inc.</td>\n",
       "      <td>Adidas America, Inc.</td>\n",
       "      <td>50</td>\n",
       "    </tr>\n",
       "    <tr>\n",
       "      <th>4</th>\n",
       "      <td>Adobe Systems, Inc.</td>\n",
       "      <td>Adobe Systems, Inc.</td>\n",
       "      <td>100</td>\n",
       "    </tr>\n",
       "    <tr>\n",
       "      <th>...</th>\n",
       "      <td>...</td>\n",
       "      <td>...</td>\n",
       "      <td>...</td>\n",
       "    </tr>\n",
       "    <tr>\n",
       "      <th>97883</th>\n",
       "      <td>WRS</td>\n",
       "      <td>Yakima Valley Memorial Hospital Association</td>\n",
       "      <td>0</td>\n",
       "    </tr>\n",
       "    <tr>\n",
       "      <th>97884</th>\n",
       "      <td>WRS</td>\n",
       "      <td>Yokohama Tire Corporation</td>\n",
       "      <td>0</td>\n",
       "    </tr>\n",
       "    <tr>\n",
       "      <th>97885</th>\n",
       "      <td>WRS</td>\n",
       "      <td>Yuma Regional Medical Center</td>\n",
       "      <td>33</td>\n",
       "    </tr>\n",
       "    <tr>\n",
       "      <th>97886</th>\n",
       "      <td>WRS</td>\n",
       "      <td>Zions Bancorporation</td>\n",
       "      <td>0</td>\n",
       "    </tr>\n",
       "    <tr>\n",
       "      <th>97887</th>\n",
       "      <td>WRS</td>\n",
       "      <td>Zoological Society of San Diego</td>\n",
       "      <td>33</td>\n",
       "    </tr>\n",
       "  </tbody>\n",
       "</table>\n",
       "<p>97888 rows × 3 columns</p>\n",
       "</div>"
      ]
     },
     "execution_count": 52,
     "metadata": {},
     "output_type": "execute_result"
    }
   ],
   "execution_count": 52
  },
  {
   "metadata": {},
   "cell_type": "markdown",
   "source": "#### 3. How many rows have `Ratio Score of 90 or greater?`",
   "id": "f3dd34ad15881577"
  },
  {
   "metadata": {
    "ExecuteTime": {
     "end_time": "2025-01-13T21:01:51.291454Z",
     "start_time": "2025-01-13T21:01:51.286411Z"
    }
   },
   "cell_type": "code",
   "source": "df.loc[df[\"Ratio Score\"]>=90]",
   "id": "f2bc8a05e5a7033e",
   "outputs": [
    {
     "data": {
      "text/plain": [
       "                                         csv1  \\\n",
       "4                         Adobe Systems, Inc.   \n",
       "742                                     AECOM   \n",
       "1112     Aerojet Rockedyne Holdings (GenCorp)   \n",
       "1484    Alameda-Contra Costa Transit District   \n",
       "3697                                   Amazon   \n",
       "...                                       ...   \n",
       "94923           Virginia Mason Medical Center   \n",
       "96033                             Wells Fargo   \n",
       "96402                         Western Digital   \n",
       "96771  Western Union Financial Services, Inc.   \n",
       "97141                    Weyerhaeuser Company   \n",
       "\n",
       "                                         csv2  Ratio Score  \n",
       "4                         Adobe Systems, Inc.          100  \n",
       "742              AECOM Technology Corporation          100  \n",
       "1112        Aerojet Rocketdyne Holdings, Inc.           90  \n",
       "1484    Alameda-Contra Costa Transit District          100  \n",
       "3697                Amazon.com Holdings, Inc.          100  \n",
       "...                                       ...          ...  \n",
       "94923           Virginia Mason Medical Center          100  \n",
       "96033                   Wells Fargo & Company          100  \n",
       "96402                   Western Digital Corp.          100  \n",
       "96771  Western Union Financial Services, Inc.          100  \n",
       "97141                    Weyerhaeuser Company          100  \n",
       "\n",
       "[135 rows x 3 columns]"
      ],
      "text/html": [
       "<div>\n",
       "<style scoped>\n",
       "    .dataframe tbody tr th:only-of-type {\n",
       "        vertical-align: middle;\n",
       "    }\n",
       "\n",
       "    .dataframe tbody tr th {\n",
       "        vertical-align: top;\n",
       "    }\n",
       "\n",
       "    .dataframe thead th {\n",
       "        text-align: right;\n",
       "    }\n",
       "</style>\n",
       "<table border=\"1\" class=\"dataframe\">\n",
       "  <thead>\n",
       "    <tr style=\"text-align: right;\">\n",
       "      <th></th>\n",
       "      <th>csv1</th>\n",
       "      <th>csv2</th>\n",
       "      <th>Ratio Score</th>\n",
       "    </tr>\n",
       "  </thead>\n",
       "  <tbody>\n",
       "    <tr>\n",
       "      <th>4</th>\n",
       "      <td>Adobe Systems, Inc.</td>\n",
       "      <td>Adobe Systems, Inc.</td>\n",
       "      <td>100</td>\n",
       "    </tr>\n",
       "    <tr>\n",
       "      <th>742</th>\n",
       "      <td>AECOM</td>\n",
       "      <td>AECOM Technology Corporation</td>\n",
       "      <td>100</td>\n",
       "    </tr>\n",
       "    <tr>\n",
       "      <th>1112</th>\n",
       "      <td>Aerojet Rockedyne Holdings (GenCorp)</td>\n",
       "      <td>Aerojet Rocketdyne Holdings, Inc.</td>\n",
       "      <td>90</td>\n",
       "    </tr>\n",
       "    <tr>\n",
       "      <th>1484</th>\n",
       "      <td>Alameda-Contra Costa Transit District</td>\n",
       "      <td>Alameda-Contra Costa Transit District</td>\n",
       "      <td>100</td>\n",
       "    </tr>\n",
       "    <tr>\n",
       "      <th>3697</th>\n",
       "      <td>Amazon</td>\n",
       "      <td>Amazon.com Holdings, Inc.</td>\n",
       "      <td>100</td>\n",
       "    </tr>\n",
       "    <tr>\n",
       "      <th>...</th>\n",
       "      <td>...</td>\n",
       "      <td>...</td>\n",
       "      <td>...</td>\n",
       "    </tr>\n",
       "    <tr>\n",
       "      <th>94923</th>\n",
       "      <td>Virginia Mason Medical Center</td>\n",
       "      <td>Virginia Mason Medical Center</td>\n",
       "      <td>100</td>\n",
       "    </tr>\n",
       "    <tr>\n",
       "      <th>96033</th>\n",
       "      <td>Wells Fargo</td>\n",
       "      <td>Wells Fargo &amp; Company</td>\n",
       "      <td>100</td>\n",
       "    </tr>\n",
       "    <tr>\n",
       "      <th>96402</th>\n",
       "      <td>Western Digital</td>\n",
       "      <td>Western Digital Corp.</td>\n",
       "      <td>100</td>\n",
       "    </tr>\n",
       "    <tr>\n",
       "      <th>96771</th>\n",
       "      <td>Western Union Financial Services, Inc.</td>\n",
       "      <td>Western Union Financial Services, Inc.</td>\n",
       "      <td>100</td>\n",
       "    </tr>\n",
       "    <tr>\n",
       "      <th>97141</th>\n",
       "      <td>Weyerhaeuser Company</td>\n",
       "      <td>Weyerhaeuser Company</td>\n",
       "      <td>100</td>\n",
       "    </tr>\n",
       "  </tbody>\n",
       "</table>\n",
       "<p>135 rows × 3 columns</p>\n",
       "</div>"
      ]
     },
     "execution_count": 59,
     "metadata": {},
     "output_type": "execute_result"
    }
   ],
   "execution_count": 59
  },
  {
   "metadata": {},
   "cell_type": "markdown",
   "source": "#### 4. What's the corresponding company in CSV2 to `AECOM` in CSV1?",
   "id": "6682f2a059b77eef"
  },
  {
   "metadata": {
    "ExecuteTime": {
     "end_time": "2025-01-13T21:08:42.718110Z",
     "start_time": "2025-01-13T21:08:42.710140Z"
    }
   },
   "cell_type": "code",
   "source": "df.loc[(df[\"csv1\"]==\"AECOM\")&(df[\"Ratio Score\"]>80)]",
   "id": "54f75bc72bdeefbc",
   "outputs": [
    {
     "data": {
      "text/plain": [
       "      csv1                          csv2  Ratio Score\n",
       "742  AECOM  AECOM Technology Corporation          100"
      ],
      "text/html": [
       "<div>\n",
       "<style scoped>\n",
       "    .dataframe tbody tr th:only-of-type {\n",
       "        vertical-align: middle;\n",
       "    }\n",
       "\n",
       "    .dataframe tbody tr th {\n",
       "        vertical-align: top;\n",
       "    }\n",
       "\n",
       "    .dataframe thead th {\n",
       "        text-align: right;\n",
       "    }\n",
       "</style>\n",
       "<table border=\"1\" class=\"dataframe\">\n",
       "  <thead>\n",
       "    <tr style=\"text-align: right;\">\n",
       "      <th></th>\n",
       "      <th>csv1</th>\n",
       "      <th>csv2</th>\n",
       "      <th>Ratio Score</th>\n",
       "    </tr>\n",
       "  </thead>\n",
       "  <tbody>\n",
       "    <tr>\n",
       "      <th>742</th>\n",
       "      <td>AECOM</td>\n",
       "      <td>AECOM Technology Corporation</td>\n",
       "      <td>100</td>\n",
       "    </tr>\n",
       "  </tbody>\n",
       "</table>\n",
       "</div>"
      ]
     },
     "execution_count": 62,
     "metadata": {},
     "output_type": "execute_result"
    }
   ],
   "execution_count": 62
  },
  {
   "metadata": {},
   "cell_type": "markdown",
   "source": "#### 5. What's the corresponding company in CSV2 to `Starbucks` in CSV1?",
   "id": "17ebaed99ca85934"
  },
  {
   "metadata": {
    "ExecuteTime": {
     "end_time": "2025-01-13T21:16:13.408977Z",
     "start_time": "2025-01-13T21:16:13.401077Z"
    }
   },
   "cell_type": "code",
   "source": "df.loc[(df[\"csv1\"]==\"Starbucks\")&(df[\"Ratio Score\"]>80)]",
   "id": "ee89610771eec313",
   "outputs": [
    {
     "data": {
      "text/plain": [
       "            csv1                   csv2  Ratio Score\n",
       "77948  Starbucks  Starbucks Corporation          100"
      ],
      "text/html": [
       "<div>\n",
       "<style scoped>\n",
       "    .dataframe tbody tr th:only-of-type {\n",
       "        vertical-align: middle;\n",
       "    }\n",
       "\n",
       "    .dataframe tbody tr th {\n",
       "        vertical-align: top;\n",
       "    }\n",
       "\n",
       "    .dataframe thead th {\n",
       "        text-align: right;\n",
       "    }\n",
       "</style>\n",
       "<table border=\"1\" class=\"dataframe\">\n",
       "  <thead>\n",
       "    <tr style=\"text-align: right;\">\n",
       "      <th></th>\n",
       "      <th>csv1</th>\n",
       "      <th>csv2</th>\n",
       "      <th>Ratio Score</th>\n",
       "    </tr>\n",
       "  </thead>\n",
       "  <tbody>\n",
       "    <tr>\n",
       "      <th>77948</th>\n",
       "      <td>Starbucks</td>\n",
       "      <td>Starbucks Corporation</td>\n",
       "      <td>100</td>\n",
       "    </tr>\n",
       "  </tbody>\n",
       "</table>\n",
       "</div>"
      ]
     },
     "execution_count": 63,
     "metadata": {},
     "output_type": "execute_result"
    }
   ],
   "execution_count": 63
  },
  {
   "metadata": {},
   "cell_type": "markdown",
   "source": "#### 6. Is there a matching company for `Pinnacle West Capital` Corporation in column CSV 2?",
   "id": "46ff7182150388f2"
  },
  {
   "metadata": {
    "ExecuteTime": {
     "end_time": "2025-01-13T21:18:37.756416Z",
     "start_time": "2025-01-13T21:18:37.749397Z"
    }
   },
   "cell_type": "code",
   "source": "df.loc[(df[\"csv1\"]==\"Pinnacle West Capital\")&(df[\"Ratio Score\"]>80)]",
   "id": "699b4590af5fd05d",
   "outputs": [
    {
     "data": {
      "text/plain": [
       "Empty DataFrame\n",
       "Columns: [csv1, csv2, Ratio Score]\n",
       "Index: []"
      ],
      "text/html": [
       "<div>\n",
       "<style scoped>\n",
       "    .dataframe tbody tr th:only-of-type {\n",
       "        vertical-align: middle;\n",
       "    }\n",
       "\n",
       "    .dataframe tbody tr th {\n",
       "        vertical-align: top;\n",
       "    }\n",
       "\n",
       "    .dataframe thead th {\n",
       "        text-align: right;\n",
       "    }\n",
       "</style>\n",
       "<table border=\"1\" class=\"dataframe\">\n",
       "  <thead>\n",
       "    <tr style=\"text-align: right;\">\n",
       "      <th></th>\n",
       "      <th>csv1</th>\n",
       "      <th>csv2</th>\n",
       "      <th>Ratio Score</th>\n",
       "    </tr>\n",
       "  </thead>\n",
       "  <tbody>\n",
       "  </tbody>\n",
       "</table>\n",
       "</div>"
      ]
     },
     "execution_count": 64,
     "metadata": {},
     "output_type": "execute_result"
    }
   ],
   "execution_count": 64
  },
  {
   "metadata": {},
   "cell_type": "markdown",
   "source": [
    "#### 7. How many matching companies are there for `County of Los Angeles Deferred Compensation Program`?\n",
    "\n",
    "`answer` = 2"
   ],
   "id": "c8b7f79fbf76b454"
  },
  {
   "metadata": {
    "ExecuteTime": {
     "end_time": "2025-01-13T21:22:10.193760Z",
     "start_time": "2025-01-13T21:22:10.185923Z"
    }
   },
   "cell_type": "code",
   "source": "df.loc[(df[\"csv1\"]==\"County of Los Angeles Deferred Compensation Program\")&(df[\"Ratio Score\"]>80)]\n",
   "id": "e904e89ad42a0ef1",
   "outputs": [
    {
     "data": {
      "text/plain": [
       "                                                    csv1  \\\n",
       "26206  County of Los Angeles Deferred Compensation Pr...   \n",
       "26227  County of Los Angeles Deferred Compensation Pr...   \n",
       "26229  County of Los Angeles Deferred Compensation Pr...   \n",
       "26230  County of Los Angeles Deferred Compensation Pr...   \n",
       "26233  County of Los Angeles Deferred Compensation Pr...   \n",
       "26330  County of Los Angeles Deferred Compensation Pr...   \n",
       "26352  County of Los Angeles Deferred Compensation Pr...   \n",
       "\n",
       "                                                    csv2  Ratio Score  \n",
       "26206          City of Los Angeles Deferred Compensation           95  \n",
       "26227  County of Los Angeles Deferred Compensation Pr...          100  \n",
       "26229  County of Riverside Deferred Compensation Program           82  \n",
       "26230  County of San Diego Deferred Compensation Program           82  \n",
       "26233                                     County of Weld           83  \n",
       "26330          King County Deferred Compensation Program           85  \n",
       "26352         Marin County Deferred Compensation Program           83  "
      ],
      "text/html": [
       "<div>\n",
       "<style scoped>\n",
       "    .dataframe tbody tr th:only-of-type {\n",
       "        vertical-align: middle;\n",
       "    }\n",
       "\n",
       "    .dataframe tbody tr th {\n",
       "        vertical-align: top;\n",
       "    }\n",
       "\n",
       "    .dataframe thead th {\n",
       "        text-align: right;\n",
       "    }\n",
       "</style>\n",
       "<table border=\"1\" class=\"dataframe\">\n",
       "  <thead>\n",
       "    <tr style=\"text-align: right;\">\n",
       "      <th></th>\n",
       "      <th>csv1</th>\n",
       "      <th>csv2</th>\n",
       "      <th>Ratio Score</th>\n",
       "    </tr>\n",
       "  </thead>\n",
       "  <tbody>\n",
       "    <tr>\n",
       "      <th>26206</th>\n",
       "      <td>County of Los Angeles Deferred Compensation Pr...</td>\n",
       "      <td>City of Los Angeles Deferred Compensation</td>\n",
       "      <td>95</td>\n",
       "    </tr>\n",
       "    <tr>\n",
       "      <th>26227</th>\n",
       "      <td>County of Los Angeles Deferred Compensation Pr...</td>\n",
       "      <td>County of Los Angeles Deferred Compensation Pr...</td>\n",
       "      <td>100</td>\n",
       "    </tr>\n",
       "    <tr>\n",
       "      <th>26229</th>\n",
       "      <td>County of Los Angeles Deferred Compensation Pr...</td>\n",
       "      <td>County of Riverside Deferred Compensation Program</td>\n",
       "      <td>82</td>\n",
       "    </tr>\n",
       "    <tr>\n",
       "      <th>26230</th>\n",
       "      <td>County of Los Angeles Deferred Compensation Pr...</td>\n",
       "      <td>County of San Diego Deferred Compensation Program</td>\n",
       "      <td>82</td>\n",
       "    </tr>\n",
       "    <tr>\n",
       "      <th>26233</th>\n",
       "      <td>County of Los Angeles Deferred Compensation Pr...</td>\n",
       "      <td>County of Weld</td>\n",
       "      <td>83</td>\n",
       "    </tr>\n",
       "    <tr>\n",
       "      <th>26330</th>\n",
       "      <td>County of Los Angeles Deferred Compensation Pr...</td>\n",
       "      <td>King County Deferred Compensation Program</td>\n",
       "      <td>85</td>\n",
       "    </tr>\n",
       "    <tr>\n",
       "      <th>26352</th>\n",
       "      <td>County of Los Angeles Deferred Compensation Pr...</td>\n",
       "      <td>Marin County Deferred Compensation Program</td>\n",
       "      <td>83</td>\n",
       "    </tr>\n",
       "  </tbody>\n",
       "</table>\n",
       "</div>"
      ]
     },
     "execution_count": 65,
     "metadata": {},
     "output_type": "execute_result"
    }
   ],
   "execution_count": 65
  },
  {
   "metadata": {},
   "cell_type": "markdown",
   "source": "#### 8. Is there a matching company for The Queens Health Systems?",
   "id": "97cd227ad1ce7a35"
  },
  {
   "metadata": {
    "ExecuteTime": {
     "end_time": "2025-01-13T21:28:04.874438Z",
     "start_time": "2025-01-13T21:28:04.866678Z"
    }
   },
   "cell_type": "code",
   "source": "df.loc[(df[\"csv1\"]==\"The Queens Health Systems\")&(df[\"Ratio Score\"]>80)]",
   "id": "e5bc9d185198aad0",
   "outputs": [
    {
     "data": {
      "text/plain": [
       "                            csv1                        csv2  Ratio Score\n",
       "84149  The Queens Health Systems        Renown Health System           84\n",
       "84220  The Queens Health Systems  The Queen's Health Systems           96"
      ],
      "text/html": [
       "<div>\n",
       "<style scoped>\n",
       "    .dataframe tbody tr th:only-of-type {\n",
       "        vertical-align: middle;\n",
       "    }\n",
       "\n",
       "    .dataframe tbody tr th {\n",
       "        vertical-align: top;\n",
       "    }\n",
       "\n",
       "    .dataframe thead th {\n",
       "        text-align: right;\n",
       "    }\n",
       "</style>\n",
       "<table border=\"1\" class=\"dataframe\">\n",
       "  <thead>\n",
       "    <tr style=\"text-align: right;\">\n",
       "      <th></th>\n",
       "      <th>csv1</th>\n",
       "      <th>csv2</th>\n",
       "      <th>Ratio Score</th>\n",
       "    </tr>\n",
       "  </thead>\n",
       "  <tbody>\n",
       "    <tr>\n",
       "      <th>84149</th>\n",
       "      <td>The Queens Health Systems</td>\n",
       "      <td>Renown Health System</td>\n",
       "      <td>84</td>\n",
       "    </tr>\n",
       "    <tr>\n",
       "      <th>84220</th>\n",
       "      <td>The Queens Health Systems</td>\n",
       "      <td>The Queen's Health Systems</td>\n",
       "      <td>96</td>\n",
       "    </tr>\n",
       "  </tbody>\n",
       "</table>\n",
       "</div>"
      ]
     },
     "execution_count": 66,
     "metadata": {},
     "output_type": "execute_result"
    }
   ],
   "execution_count": 66
  }
 ],
 "metadata": {
  "kernelspec": {
   "display_name": "Python 3",
   "language": "python",
   "name": "python3"
  },
  "language_info": {
   "codemirror_mode": {
    "name": "ipython",
    "version": 2
   },
   "file_extension": ".py",
   "mimetype": "text/x-python",
   "name": "python",
   "nbconvert_exporter": "python",
   "pygments_lexer": "ipython2",
   "version": "2.7.6"
  }
 },
 "nbformat": 4,
 "nbformat_minor": 5
}
