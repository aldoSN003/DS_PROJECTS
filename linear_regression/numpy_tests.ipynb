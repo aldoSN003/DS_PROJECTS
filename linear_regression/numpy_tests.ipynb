{
 "cells": [
  {
   "cell_type": "code",
   "id": "initial_id",
   "metadata": {
    "collapsed": true,
    "ExecuteTime": {
     "end_time": "2025-01-22T21:20:01.827649Z",
     "start_time": "2025-01-22T21:20:01.675595Z"
    }
   },
   "source": [
    "import numpy as np\n",
    "from pandas.core.internals.blocks import external_values"
   ],
   "outputs": [],
   "execution_count": 1
  },
  {
   "metadata": {
    "ExecuteTime": {
     "end_time": "2025-01-22T21:20:14.725516Z",
     "start_time": "2025-01-22T21:20:14.721137Z"
    }
   },
   "cell_type": "code",
   "source": [
    "a = np.array([1, 2, 3])\n",
    "a"
   ],
   "id": "33a54127a739fe1d",
   "outputs": [
    {
     "data": {
      "text/plain": [
       "array([1, 2, 3])"
      ]
     },
     "execution_count": 2,
     "metadata": {},
     "output_type": "execute_result"
    }
   ],
   "execution_count": 2
  },
  {
   "metadata": {
    "ExecuteTime": {
     "end_time": "2025-01-22T21:21:14.919181Z",
     "start_time": "2025-01-22T21:21:14.916739Z"
    }
   },
   "cell_type": "code",
   "source": "a.ndim",
   "id": "98a3caafcc401158",
   "outputs": [
    {
     "data": {
      "text/plain": [
       "1"
      ]
     },
     "execution_count": 3,
     "metadata": {},
     "output_type": "execute_result"
    }
   ],
   "execution_count": 3
  },
  {
   "metadata": {
    "ExecuteTime": {
     "end_time": "2025-01-22T21:21:26.804050Z",
     "start_time": "2025-01-22T21:21:26.801177Z"
    }
   },
   "cell_type": "code",
   "source": "a.shape",
   "id": "c866848c196abe4b",
   "outputs": [
    {
     "data": {
      "text/plain": [
       "(3,)"
      ]
     },
     "execution_count": 4,
     "metadata": {},
     "output_type": "execute_result"
    }
   ],
   "execution_count": 4
  },
  {
   "metadata": {
    "ExecuteTime": {
     "end_time": "2025-01-22T22:35:14.296199Z",
     "start_time": "2025-01-22T22:35:14.293190Z"
    }
   },
   "cell_type": "code",
   "source": [
    "x_values = np.array([70,80,90,75,60])\n",
    "x_mean = np.mean(x_values)\n",
    "print(x_mean)\n",
    "sum((x-x_mean) for x in x_values)\n"
   ],
   "id": "55adb1dd5a4bfd06",
   "outputs": [
    {
     "name": "stdout",
     "output_type": "stream",
     "text": [
      "75.0\n"
     ]
    },
    {
     "data": {
      "text/plain": [
       "0.0"
      ]
     },
     "execution_count": 17,
     "metadata": {},
     "output_type": "execute_result"
    }
   ],
   "execution_count": 17
  }
 ],
 "metadata": {
  "kernelspec": {
   "display_name": "Python 3",
   "language": "python",
   "name": "python3"
  },
  "language_info": {
   "codemirror_mode": {
    "name": "ipython",
    "version": 2
   },
   "file_extension": ".py",
   "mimetype": "text/x-python",
   "name": "python",
   "nbconvert_exporter": "python",
   "pygments_lexer": "ipython2",
   "version": "2.7.6"
  }
 },
 "nbformat": 4,
 "nbformat_minor": 5
}
